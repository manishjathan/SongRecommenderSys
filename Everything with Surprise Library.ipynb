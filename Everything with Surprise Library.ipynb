{
 "cells": [
  {
   "cell_type": "code",
   "execution_count": 1,
   "id": "66f4cc00",
   "metadata": {},
   "outputs": [],
   "source": [
    "import pandas as pd\n",
    "import numpy as np\n",
    "import pickle\n",
    "from surprise import BaselineOnly\n",
    "import matplotlib.pyplot as plt\n",
    "import seaborn as sns\n",
    "from tqdm import tqdm\n",
    "\n",
    "from sklearn.model_selection import train_test_split\n",
    "from surprise import SVD\n",
    "from surprise import SVDpp\n",
    "from surprise import NMF\n",
    "\n",
    "from surprise import Dataset\n",
    "from surprise import Reader\n",
    "from surprise import accuracy\n",
    "from surprise.model_selection import KFold\n",
    "from surprise.model_selection import GridSearchCV\n",
    "from surprise import NormalPredictor\n",
    "from surprise import KNNBasic\n",
    "\n",
    "from os import path\n",
    "\n",
    "#from surprise import KNNBaseline\n",
    "#from surprise import prediction_algorithms.matrix"
   ]
  },
  {
   "cell_type": "code",
   "execution_count": 2,
   "id": "26428b0e",
   "metadata": {},
   "outputs": [],
   "source": [
    "sampleFile = open('subset_df.pkl','rb')\n",
    "subset_df = pickle.load(sampleFile)"
   ]
  },
  {
   "cell_type": "code",
   "execution_count": 23,
   "id": "59137a0a",
   "metadata": {},
   "outputs": [],
   "source": [
    "play_count_quantiles = np.quantile(subset_df['play_count'],q=[i/100 for i in range(0,101,25)])"
   ]
  },
  {
   "cell_type": "code",
   "execution_count": 25,
   "id": "0f3f56e9",
   "metadata": {},
   "outputs": [
    {
     "data": {
      "text/plain": [
       "array([1.000e+00, 1.000e+00, 1.000e+00, 3.000e+00, 1.762e+03])"
      ]
     },
     "execution_count": 25,
     "metadata": {},
     "output_type": "execute_result"
    }
   ],
   "source": [
    "play_count_quantiles"
   ]
  },
  {
   "cell_type": "code",
   "execution_count": 50,
   "id": "60f2564b",
   "metadata": {},
   "outputs": [],
   "source": [
    "def getQuantileParam(m):\n",
    "    return [i/100 for i in range(0,101,m)]"
   ]
  },
  {
   "cell_type": "code",
   "execution_count": 47,
   "id": "ab0adb75",
   "metadata": {},
   "outputs": [],
   "source": [
    "## Find the number of times a song has been heard\n",
    "no_times_song_heard = np.quantile(subset_df.groupby(['song_id']).sum().play_count,q=getQuantileParam(10))\n",
    "## Find the number of users have listened to the song"
   ]
  },
  {
   "cell_type": "code",
   "execution_count": 52,
   "id": "2b50f118",
   "metadata": {},
   "outputs": [],
   "source": [
    "# Number of users who have heard a song\n",
    "no_users_heard_song = np.quantile(subset_df['song_id'].value_counts().values,q=getQuantileParam(10))"
   ]
  },
  {
   "cell_type": "code",
   "execution_count": 53,
   "id": "f1856ebb",
   "metadata": {},
   "outputs": [
    {
     "data": {
      "text/plain": [
       "array([1.0000e+00, 1.0000e+00, 1.0000e+00, 2.0000e+00, 3.0000e+00,\n",
       "       4.0000e+00, 6.0000e+00, 1.0000e+01, 1.9000e+01, 4.6000e+01,\n",
       "       1.0388e+04])"
      ]
     },
     "execution_count": 53,
     "metadata": {},
     "output_type": "execute_result"
    }
   ],
   "source": [
    "no_users_heard_song"
   ]
  },
  {
   "cell_type": "code",
   "execution_count": 71,
   "id": "5f2deb2a",
   "metadata": {},
   "outputs": [],
   "source": [
    "## We select the threshold to be 4 which suggests that atleast 50% of the population has heard a song for 4 times\n",
    "## We create a subset of those songs which have been heard atleast 4 times"
   ]
  },
  {
   "cell_type": "code",
   "execution_count": 76,
   "id": "1d56b1d2",
   "metadata": {},
   "outputs": [],
   "source": [
    "songs_index = subset_df['song_id'].value_counts()[subset_df['song_id'].value_counts() >= 4].index"
   ]
  },
  {
   "cell_type": "code",
   "execution_count": 72,
   "id": "620a1178",
   "metadata": {},
   "outputs": [],
   "source": [
    "## Number of songs heard by a user\n",
    "## We'll select the subset of users who have heard atleast more than the threshold number of songs"
   ]
  },
  {
   "cell_type": "code",
   "execution_count": 73,
   "id": "11452cf2",
   "metadata": {},
   "outputs": [],
   "source": [
    "no_songs_heard_user = np.quantile(subset_df['user_id'].value_counts().values,q=getQuantileParam(10))"
   ]
  },
  {
   "cell_type": "code",
   "execution_count": 74,
   "id": "6e0cb679",
   "metadata": {},
   "outputs": [
    {
     "data": {
      "text/plain": [
       "array([  1.,   1.,   1.,   1.,   1.,   2.,   2.,   3.,   4.,   6., 169.])"
      ]
     },
     "execution_count": 74,
     "metadata": {},
     "output_type": "execute_result"
    }
   ],
   "source": [
    "no_songs_heard_user"
   ]
  },
  {
   "cell_type": "code",
   "execution_count": 77,
   "id": "8a465e84",
   "metadata": {},
   "outputs": [],
   "source": [
    "user_index = subset_df['user_id'].value_counts()[subset_df['user_id'].value_counts() >= 4].index"
   ]
  },
  {
   "cell_type": "code",
   "execution_count": 81,
   "id": "d45982d7",
   "metadata": {},
   "outputs": [
    {
     "name": "stdout",
     "output_type": "stream",
     "text": [
      "Number of Unique songs :  77135\n",
      "Number of Unique users :  635627\n"
     ]
    }
   ],
   "source": [
    "print(\"Number of Unique songs : \",subset_df['song_id'].nunique())\n",
    "print(\"Number of Unique users : \",subset_df['user_id'].nunique())"
   ]
  },
  {
   "cell_type": "code",
   "execution_count": 84,
   "id": "2414dbd3",
   "metadata": {},
   "outputs": [
    {
     "name": "stdout",
     "output_type": "stream",
     "text": [
      "Number of selected songs :  39953\n",
      "Number of selected users :  158241\n"
     ]
    }
   ],
   "source": [
    "print(\"Number of selected songs : \",len(songs_index))\n",
    "print(\"Number of selected users : \",len(user_index))"
   ]
  },
  {
   "cell_type": "code",
   "execution_count": 97,
   "id": "0175f445",
   "metadata": {},
   "outputs": [
    {
     "name": "stdout",
     "output_type": "stream",
     "text": [
      "% of selected songs :  51.79620146496402\n",
      "% of selected users :  24.895260899867374\n"
     ]
    }
   ],
   "source": [
    "print(\"% of selected songs : \",len(songs_index)*100/subset_df['song_id'].nunique())\n",
    "print(\"% of selected users : \",len(user_index)*100/subset_df['user_id'].nunique())"
   ]
  },
  {
   "cell_type": "code",
   "execution_count": 98,
   "id": "1a6ba132",
   "metadata": {},
   "outputs": [],
   "source": [
    " ## Selecting songs from subset_df based on songs_index"
   ]
  },
  {
   "cell_type": "code",
   "execution_count": 107,
   "id": "ed0e5b68",
   "metadata": {},
   "outputs": [
    {
     "name": "stdout",
     "output_type": "stream",
     "text": [
      "Size of Original Dataframe :  1857407\n",
      "Size of shrinked Dataframe :  56.03839115498111 %\n"
     ]
    }
   ],
   "source": [
    "updt_subset_df = subset_df[subset_df['song_id'].isin(songs_index) & subset_df['user_id'].isin(user_index)]\n",
    "print(\"Size of Original Dataframe : \",len(subset_df))\n",
    "print(\"Size of shrinked Dataframe : \",len(updt_subset_df)*100/len(subset_df),\"%\")"
   ]
  },
  {
   "cell_type": "markdown",
   "id": "ef919492",
   "metadata": {},
   "source": [
    "## Saving the Updated DataFrame"
   ]
  },
  {
   "cell_type": "code",
   "execution_count": 128,
   "id": "6788e572",
   "metadata": {},
   "outputs": [],
   "source": [
    "sampleFile = open('updt_subset_df','wb')\n",
    "pickle.dump(updt_subset_df,sampleFile)\n",
    "sampleFile.close()"
   ]
  },
  {
   "cell_type": "code",
   "execution_count": 4,
   "id": "3d57045a",
   "metadata": {},
   "outputs": [],
   "source": [
    "sampleFile = open('updt_subset_df','rb')\n",
    "updt_subset_df = pickle.load(sampleFile)\n",
    "sampleFile.close()"
   ]
  },
  {
   "cell_type": "code",
   "execution_count": 133,
   "id": "8055a921",
   "metadata": {},
   "outputs": [
    {
     "name": "stderr",
     "output_type": "stream",
     "text": [
      "C:\\Users\\manish_jathan\\Anaconda3\\lib\\site-packages\\seaborn\\distributions.py:2557: FutureWarning: `distplot` is a deprecated function and will be removed in a future version. Please adapt your code to use either `displot` (a figure-level function with similar flexibility) or `histplot` (an axes-level function for histograms).\n",
      "  warnings.warn(msg, FutureWarning)\n"
     ]
    },
    {
     "data": {
      "text/plain": [
       "<AxesSubplot:xlabel='play_count', ylabel='Density'>"
      ]
     },
     "execution_count": 133,
     "metadata": {},
     "output_type": "execute_result"
    },
    {
     "data": {
      "image/png": "[encoded data removed]",
      "text/plain": [
       "<Figure size 720x720 with 1 Axes>"
      ]
     },
     "metadata": {},
     "output_type": "display_data"
    }
   ],
   "source": [
    "sns.set_style('darkgrid')\n",
    "plt.figure(figsize=(10,10))\n",
    "sns.distplot(updt_subset_df.play_count)"
   ]
  },
  {
   "cell_type": "code",
   "execution_count": 137,
   "id": "e224c905",
   "metadata": {},
   "outputs": [
    {
     "name": "stderr",
     "output_type": "stream",
     "text": [
      "C:\\Users\\manish_jathan\\Anaconda3\\lib\\site-packages\\seaborn\\_decorators.py:36: FutureWarning: Pass the following variable as a keyword arg: x. From version 0.12, the only valid positional argument will be `data`, and passing other arguments without an explicit keyword will result in an error or misinterpretation.\n",
      "  warnings.warn(\n"
     ]
    },
    {
     "data": {
      "text/plain": [
       "<AxesSubplot:xlabel='play_count'>"
      ]
     },
     "execution_count": 137,
     "metadata": {},
     "output_type": "execute_result"
    },
    {
     "data": {
      "image/png": "[encoded data removed]",
      "text/plain": [
       "<Figure size 720x720 with 1 Axes>"
      ]
     },
     "metadata": {},
     "output_type": "display_data"
    }
   ],
   "source": [
    "sns.set_style('darkgrid')\n",
    "plt.figure(figsize=(10,10))\n",
    "sns.boxplot(updt_subset_df['play_count'])"
   ]
  },
  {
   "cell_type": "code",
   "execution_count": 145,
   "id": "71909c3d",
   "metadata": {},
   "outputs": [
    {
     "name": "stderr",
     "output_type": "stream",
     "text": [
      "C:\\Users\\manish_jathan\\Anaconda3\\lib\\site-packages\\seaborn\\distributions.py:2557: FutureWarning: `distplot` is a deprecated function and will be removed in a future version. Please adapt your code to use either `displot` (a figure-level function with similar flexibility) or `histplot` (an axes-level function for histograms).\n",
      "  warnings.warn(msg, FutureWarning)\n"
     ]
    },
    {
     "data": {
      "text/plain": [
       "<AxesSubplot:xlabel='play_count', ylabel='Density'>"
      ]
     },
     "execution_count": 145,
     "metadata": {},
     "output_type": "execute_result"
    },
    {
     "data": {
      "image/png": "[encoded data removed]",
      "text/plain": [
       "<Figure size 432x288 with 1 Axes>"
      ]
     },
     "metadata": {},
     "output_type": "display_data"
    }
   ],
   "source": [
    "sns.distplot(updt_subset_df[updt_subset_df['play_count']<=10]['play_count'])"
   ]
  },
  {
   "cell_type": "code",
   "execution_count": 151,
   "id": "5dc3a209",
   "metadata": {},
   "outputs": [
    {
     "data": {
      "text/plain": [
       "array([  1.,   1.,   1.,   1.,   1.,   1.,   2.,   2.,   3.,   5., 785.])"
      ]
     },
     "execution_count": 151,
     "metadata": {},
     "output_type": "execute_result"
    }
   ],
   "source": [
    "np.quantile(updt_subset_df['play_count'],getQuantileParam(10))"
   ]
  },
  {
   "cell_type": "markdown",
   "id": "411e9df7",
   "metadata": {},
   "source": [
    "* Looking at the quantile ranges\n",
    "* we can try to reduce the size of data by considering only those playcounts less than or equal to 5"
   ]
  },
  {
   "cell_type": "markdown",
   "id": "31459206",
   "metadata": {},
   "source": [
    "## Saving the final dataframe"
   ]
  },
  {
   "cell_type": "code",
   "execution_count": 8,
   "id": "81d84935",
   "metadata": {},
   "outputs": [],
   "source": [
    "final_df = updt_subset_df[updt_subset_df['play_count']<=5]"
   ]
  },
  {
   "cell_type": "code",
   "execution_count": 9,
   "id": "8f6ed36f",
   "metadata": {},
   "outputs": [
    {
     "name": "stdout",
     "output_type": "stream",
     "text": [
      "% shrinkage in size :  9.154056113160163\n"
     ]
    }
   ],
   "source": [
    "print(\"% shrinkage in size : \",((updt_subset_df.shape[0] - final_df.shape[0])*100)/updt_subset_df.shape[0])"
   ]
  },
  {
   "cell_type": "code",
   "execution_count": 10,
   "id": "2f1da394",
   "metadata": {},
   "outputs": [
    {
     "data": {
      "text/plain": [
       "(945580, 3)"
      ]
     },
     "execution_count": 10,
     "metadata": {},
     "output_type": "execute_result"
    }
   ],
   "source": [
    "final_df.shape"
   ]
  },
  {
   "cell_type": "code",
   "execution_count": 11,
   "id": "e86201ea",
   "metadata": {},
   "outputs": [],
   "source": [
    "sampleFile = open('final_df','wb')\n",
    "pickle.dump(final_df,sampleFile)\n",
    "sampleFile.close()"
   ]
  },
  {
   "cell_type": "code",
   "execution_count": 8,
   "id": "6eeae063",
   "metadata": {},
   "outputs": [],
   "source": [
    "sampleFile = open('final_df','rb')\n",
    "final_df = pickle.load(sampleFile)\n",
    "sampleFile.close()"
   ]
  },
  {
   "cell_type": "markdown",
   "id": "208edffd",
   "metadata": {},
   "source": [
    "## 1. Baseline Model"
   ]
  },
  {
   "cell_type": "code",
   "execution_count": 218,
   "id": "470ef897",
   "metadata": {},
   "outputs": [],
   "source": [
    "## Defining the Parameter grid\n",
    "bsl_param_grid = {'bsl_options' : {'method' : ['als','sgd'],\n",
    "                                   'n_epochs' : [i for i in range(1,11)],\n",
    "                                   'reg_u' : [i for i in range(3,12,3) ],\n",
    "                                   'reg_i' : [i for i in range(5,21,5)]}\n",
    "                 }"
   ]
  },
  {
   "cell_type": "markdown",
   "id": "3f7046c6",
   "metadata": {},
   "source": [
    "## Preparing the dataset for train and test"
   ]
  },
  {
   "cell_type": "code",
   "execution_count": 9,
   "id": "656616fa",
   "metadata": {},
   "outputs": [],
   "source": [
    "## Let's divide the data into train and test set\n",
    "reader = Reader(rating_scale=(1,5))\n",
    "train_data,test_data = train_test_split(final_df,test_size = 0.3)\n",
    "\n",
    "train_set = Dataset.load_from_df(train_data,reader)\n",
    "test_set = Dataset.load_from_df(test_data,reader)"
   ]
  },
  {
   "cell_type": "code",
   "execution_count": 17,
   "id": "11e6ad3f",
   "metadata": {},
   "outputs": [],
   "source": [
    "train_set_obj = train_set.build_full_trainset()"
   ]
  },
  {
   "cell_type": "code",
   "execution_count": 126,
   "id": "d1cd3d3a",
   "metadata": {},
   "outputs": [],
   "source": [
    "train_set_test_obj = train_set_obj.build_testset()"
   ]
  },
  {
   "cell_type": "code",
   "execution_count": 10,
   "id": "4dfed9ce",
   "metadata": {},
   "outputs": [],
   "source": [
    "test_set_daf_obj = test_set.build_full_trainset()\n",
    "test_set_obj = test_set_daf_obj.build_testset()"
   ]
  },
  {
   "cell_type": "code",
   "execution_count": 407,
   "id": "d45d20bc",
   "metadata": {},
   "outputs": [],
   "source": [
    "dumpObj(train_set_obj,'train_set_obj')\n",
    "dumpObj(train_set_test_obj,'train_set_test_obj')\n",
    "dumpObj(test_set_obj,'test_set_obj')\n",
    "dumpObj(train_set,'train_set')\n",
    "dumpObj(test_set,'test_set')\n",
    "dumpObj(train_data,'train_data')\n",
    "dumpObj(test_data,'test_data')"
   ]
  },
  {
   "cell_type": "code",
   "execution_count": 5,
   "id": "b77c6385",
   "metadata": {},
   "outputs": [],
   "source": [
    "train_set_obj = returnObj('train_set_obj')\n",
    "train_set_test_obj = returnObj('train_set_test_obj')\n",
    "test_set_obj = returnObj('test_set_obj')\n",
    "train_set = returnObj('train_set')\n",
    "test_set = returnObj('test_set')\n",
    "train_data = returnObj('train_data')\n",
    "test_data = returnObj('test_data')"
   ]
  },
  {
   "cell_type": "code",
   "execution_count": null,
   "id": "258dc221",
   "metadata": {},
   "outputs": [],
   "source": [
    "## Initializing the Grid Search CV and fitting the train data\n",
    "gcv = GridSearchCV(BaselineOnly,\n",
    "                   bsl_param_grid,\n",
    "                   measures=['rmse','mae'],\n",
    "                   cv=3)\n",
    "gcv.fit(train_data)"
   ]
  },
  {
   "cell_type": "code",
   "execution_count": 220,
   "id": "64bc97e5",
   "metadata": {},
   "outputs": [
    {
     "data": {
      "text/html": [
       "<div>\n",
       "<style scoped>\n",
       "    .dataframe tbody tr th:only-of-type {\n",
       "        vertical-align: middle;\n",
       "    }\n",
       "\n",
       "    .dataframe tbody tr th {\n",
       "        vertical-align: top;\n",
       "    }\n",
       "\n",
       "    .dataframe thead th {\n",
       "        text-align: right;\n",
       "    }\n",
       "</style>\n",
       "<table border=\"1\" class=\"dataframe\">\n",
       "  <thead>\n",
       "    <tr style=\"text-align: right;\">\n",
       "      <th></th>\n",
       "      <th>split0_test_rmse</th>\n",
       "      <th>split1_test_rmse</th>\n",
       "      <th>split2_test_rmse</th>\n",
       "      <th>mean_test_rmse</th>\n",
       "      <th>std_test_rmse</th>\n",
       "      <th>rank_test_rmse</th>\n",
       "      <th>split0_test_mae</th>\n",
       "      <th>split1_test_mae</th>\n",
       "      <th>split2_test_mae</th>\n",
       "      <th>mean_test_mae</th>\n",
       "      <th>std_test_mae</th>\n",
       "      <th>rank_test_mae</th>\n",
       "      <th>mean_fit_time</th>\n",
       "      <th>std_fit_time</th>\n",
       "      <th>mean_test_time</th>\n",
       "      <th>std_test_time</th>\n",
       "      <th>params</th>\n",
       "      <th>param_bsl_options</th>\n",
       "    </tr>\n",
       "  </thead>\n",
       "  <tbody>\n",
       "    <tr>\n",
       "      <th>0</th>\n",
       "      <td>1.053778</td>\n",
       "      <td>1.050428</td>\n",
       "      <td>1.051071</td>\n",
       "      <td>1.051759</td>\n",
       "      <td>0.001452</td>\n",
       "      <td>180</td>\n",
       "      <td>0.775862</td>\n",
       "      <td>0.774817</td>\n",
       "      <td>0.775104</td>\n",
       "      <td>0.775261</td>\n",
       "      <td>0.000441</td>\n",
       "      <td>2</td>\n",
       "      <td>0.865285</td>\n",
       "      <td>0.051785</td>\n",
       "      <td>2.922506</td>\n",
       "      <td>0.473516</td>\n",
       "      <td>{'bsl_options': {'method': 'als', 'n_epochs': ...</td>\n",
       "      <td>{'method': 'als', 'n_epochs': 1, 'reg_u': 3, '...</td>\n",
       "    </tr>\n",
       "    <tr>\n",
       "      <th>1</th>\n",
       "      <td>1.050249</td>\n",
       "      <td>1.046671</td>\n",
       "      <td>1.047482</td>\n",
       "      <td>1.048134</td>\n",
       "      <td>0.001532</td>\n",
       "      <td>109</td>\n",
       "      <td>0.775894</td>\n",
       "      <td>0.774699</td>\n",
       "      <td>0.775050</td>\n",
       "      <td>0.775214</td>\n",
       "      <td>0.000502</td>\n",
       "      <td>1</td>\n",
       "      <td>0.333687</td>\n",
       "      <td>0.007513</td>\n",
       "      <td>2.824808</td>\n",
       "      <td>0.489791</td>\n",
       "      <td>{'bsl_options': {'method': 'als', 'n_epochs': ...</td>\n",
       "      <td>{'method': 'als', 'n_epochs': 1, 'reg_u': 3, '...</td>\n",
       "    </tr>\n",
       "    <tr>\n",
       "      <th>2</th>\n",
       "      <td>1.048945</td>\n",
       "      <td>1.045258</td>\n",
       "      <td>1.046166</td>\n",
       "      <td>1.046790</td>\n",
       "      <td>0.001568</td>\n",
       "      <td>89</td>\n",
       "      <td>0.776437</td>\n",
       "      <td>0.775174</td>\n",
       "      <td>0.775532</td>\n",
       "      <td>0.775714</td>\n",
       "      <td>0.000531</td>\n",
       "      <td>3</td>\n",
       "      <td>0.405788</td>\n",
       "      <td>0.069902</td>\n",
       "      <td>3.550119</td>\n",
       "      <td>0.972309</td>\n",
       "      <td>{'bsl_options': {'method': 'als', 'n_epochs': ...</td>\n",
       "      <td>{'method': 'als', 'n_epochs': 1, 'reg_u': 3, '...</td>\n",
       "    </tr>\n",
       "    <tr>\n",
       "      <th>3</th>\n",
       "      <td>1.048341</td>\n",
       "      <td>1.044592</td>\n",
       "      <td>1.045555</td>\n",
       "      <td>1.046162</td>\n",
       "      <td>0.001590</td>\n",
       "      <td>62</td>\n",
       "      <td>0.777019</td>\n",
       "      <td>0.775717</td>\n",
       "      <td>0.776080</td>\n",
       "      <td>0.776272</td>\n",
       "      <td>0.000549</td>\n",
       "      <td>5</td>\n",
       "      <td>0.317628</td>\n",
       "      <td>0.030305</td>\n",
       "      <td>2.552970</td>\n",
       "      <td>0.665288</td>\n",
       "      <td>{'bsl_options': {'method': 'als', 'n_epochs': ...</td>\n",
       "      <td>{'method': 'als', 'n_epochs': 1, 'reg_u': 3, '...</td>\n",
       "    </tr>\n",
       "    <tr>\n",
       "      <th>4</th>\n",
       "      <td>1.049371</td>\n",
       "      <td>1.046179</td>\n",
       "      <td>1.047072</td>\n",
       "      <td>1.047541</td>\n",
       "      <td>0.001344</td>\n",
       "      <td>90</td>\n",
       "      <td>0.783134</td>\n",
       "      <td>0.782532</td>\n",
       "      <td>0.782879</td>\n",
       "      <td>0.782849</td>\n",
       "      <td>0.000247</td>\n",
       "      <td>41</td>\n",
       "      <td>0.335909</td>\n",
       "      <td>0.007057</td>\n",
       "      <td>2.876276</td>\n",
       "      <td>0.536704</td>\n",
       "      <td>{'bsl_options': {'method': 'als', 'n_epochs': ...</td>\n",
       "      <td>{'method': 'als', 'n_epochs': 1, 'reg_u': 6, '...</td>\n",
       "    </tr>\n",
       "    <tr>\n",
       "      <th>...</th>\n",
       "      <td>...</td>\n",
       "      <td>...</td>\n",
       "      <td>...</td>\n",
       "      <td>...</td>\n",
       "      <td>...</td>\n",
       "      <td>...</td>\n",
       "      <td>...</td>\n",
       "      <td>...</td>\n",
       "      <td>...</td>\n",
       "      <td>...</td>\n",
       "      <td>...</td>\n",
       "      <td>...</td>\n",
       "      <td>...</td>\n",
       "      <td>...</td>\n",
       "      <td>...</td>\n",
       "      <td>...</td>\n",
       "      <td>...</td>\n",
       "      <td>...</td>\n",
       "    </tr>\n",
       "    <tr>\n",
       "      <th>235</th>\n",
       "      <td>1.050045</td>\n",
       "      <td>1.046985</td>\n",
       "      <td>1.048252</td>\n",
       "      <td>1.048427</td>\n",
       "      <td>0.001255</td>\n",
       "      <td>111</td>\n",
       "      <td>0.797116</td>\n",
       "      <td>0.796779</td>\n",
       "      <td>0.797514</td>\n",
       "      <td>0.797136</td>\n",
       "      <td>0.000301</td>\n",
       "      <td>129</td>\n",
       "      <td>1.786054</td>\n",
       "      <td>0.031412</td>\n",
       "      <td>1.511468</td>\n",
       "      <td>0.310415</td>\n",
       "      <td>{'bsl_options': {'method': 'sgd', 'n_epochs': ...</td>\n",
       "      <td>{'method': 'sgd', 'n_epochs': 10, 'reg_u': 6, ...</td>\n",
       "    </tr>\n",
       "    <tr>\n",
       "      <th>236</th>\n",
       "      <td>1.050045</td>\n",
       "      <td>1.046985</td>\n",
       "      <td>1.048252</td>\n",
       "      <td>1.048427</td>\n",
       "      <td>0.001255</td>\n",
       "      <td>119</td>\n",
       "      <td>0.797116</td>\n",
       "      <td>0.796779</td>\n",
       "      <td>0.797514</td>\n",
       "      <td>0.797136</td>\n",
       "      <td>0.000301</td>\n",
       "      <td>130</td>\n",
       "      <td>1.853122</td>\n",
       "      <td>0.099205</td>\n",
       "      <td>1.634170</td>\n",
       "      <td>0.286919</td>\n",
       "      <td>{'bsl_options': {'method': 'sgd', 'n_epochs': ...</td>\n",
       "      <td>{'method': 'sgd', 'n_epochs': 10, 'reg_u': 9, ...</td>\n",
       "    </tr>\n",
       "    <tr>\n",
       "      <th>237</th>\n",
       "      <td>1.050045</td>\n",
       "      <td>1.046985</td>\n",
       "      <td>1.048252</td>\n",
       "      <td>1.048427</td>\n",
       "      <td>0.001255</td>\n",
       "      <td>110</td>\n",
       "      <td>0.797116</td>\n",
       "      <td>0.796779</td>\n",
       "      <td>0.797514</td>\n",
       "      <td>0.797136</td>\n",
       "      <td>0.000301</td>\n",
       "      <td>131</td>\n",
       "      <td>2.110701</td>\n",
       "      <td>0.454237</td>\n",
       "      <td>1.775244</td>\n",
       "      <td>0.448686</td>\n",
       "      <td>{'bsl_options': {'method': 'sgd', 'n_epochs': ...</td>\n",
       "      <td>{'method': 'sgd', 'n_epochs': 10, 'reg_u': 9, ...</td>\n",
       "    </tr>\n",
       "    <tr>\n",
       "      <th>238</th>\n",
       "      <td>1.050045</td>\n",
       "      <td>1.046985</td>\n",
       "      <td>1.048252</td>\n",
       "      <td>1.048427</td>\n",
       "      <td>0.001255</td>\n",
       "      <td>121</td>\n",
       "      <td>0.797116</td>\n",
       "      <td>0.796779</td>\n",
       "      <td>0.797514</td>\n",
       "      <td>0.797136</td>\n",
       "      <td>0.000301</td>\n",
       "      <td>127</td>\n",
       "      <td>1.774862</td>\n",
       "      <td>0.011656</td>\n",
       "      <td>1.771940</td>\n",
       "      <td>0.430656</td>\n",
       "      <td>{'bsl_options': {'method': 'sgd', 'n_epochs': ...</td>\n",
       "      <td>{'method': 'sgd', 'n_epochs': 10, 'reg_u': 9, ...</td>\n",
       "    </tr>\n",
       "    <tr>\n",
       "      <th>239</th>\n",
       "      <td>1.050045</td>\n",
       "      <td>1.046985</td>\n",
       "      <td>1.048252</td>\n",
       "      <td>1.048427</td>\n",
       "      <td>0.001255</td>\n",
       "      <td>120</td>\n",
       "      <td>0.797116</td>\n",
       "      <td>0.796779</td>\n",
       "      <td>0.797514</td>\n",
       "      <td>0.797136</td>\n",
       "      <td>0.000301</td>\n",
       "      <td>121</td>\n",
       "      <td>1.816161</td>\n",
       "      <td>0.025857</td>\n",
       "      <td>1.692796</td>\n",
       "      <td>0.349447</td>\n",
       "      <td>{'bsl_options': {'method': 'sgd', 'n_epochs': ...</td>\n",
       "      <td>{'method': 'sgd', 'n_epochs': 10, 'reg_u': 9, ...</td>\n",
       "    </tr>\n",
       "  </tbody>\n",
       "</table>\n",
       "<p>240 rows × 18 columns</p>\n",
       "</div>"
      ],
      "text/plain": [
       "     split0_test_rmse  split1_test_rmse  split2_test_rmse  mean_test_rmse  \\\n",
       "0            1.053778          1.050428          1.051071        1.051759   \n",
       "1            1.050249          1.046671          1.047482        1.048134   \n",
       "2            1.048945          1.045258          1.046166        1.046790   \n",
       "3            1.048341          1.044592          1.045555        1.046162   \n",
       "4            1.049371          1.046179          1.047072        1.047541   \n",
       "..                ...               ...               ...             ...   \n",
       "235          1.050045          1.046985          1.048252        1.048427   \n",
       "236          1.050045          1.046985          1.048252        1.048427   \n",
       "237          1.050045          1.046985          1.048252        1.048427   \n",
       "238          1.050045          1.046985          1.048252        1.048427   \n",
       "239          1.050045          1.046985          1.048252        1.048427   \n",
       "\n",
       "     std_test_rmse  rank_test_rmse  split0_test_mae  split1_test_mae  \\\n",
       "0         0.001452             180         0.775862         0.774817   \n",
       "1         0.001532             109         0.775894         0.774699   \n",
       "2         0.001568              89         0.776437         0.775174   \n",
       "3         0.001590              62         0.777019         0.775717   \n",
       "4         0.001344              90         0.783134         0.782532   \n",
       "..             ...             ...              ...              ...   \n",
       "235       0.001255             111         0.797116         0.796779   \n",
       "236       0.001255             119         0.797116         0.796779   \n",
       "237       0.001255             110         0.797116         0.796779   \n",
       "238       0.001255             121         0.797116         0.796779   \n",
       "239       0.001255             120         0.797116         0.796779   \n",
       "\n",
       "     split2_test_mae  mean_test_mae  std_test_mae  rank_test_mae  \\\n",
       "0           0.775104       0.775261      0.000441              2   \n",
       "1           0.775050       0.775214      0.000502              1   \n",
       "2           0.775532       0.775714      0.000531              3   \n",
       "3           0.776080       0.776272      0.000549              5   \n",
       "4           0.782879       0.782849      0.000247             41   \n",
       "..               ...            ...           ...            ...   \n",
       "235         0.797514       0.797136      0.000301            129   \n",
       "236         0.797514       0.797136      0.000301            130   \n",
       "237         0.797514       0.797136      0.000301            131   \n",
       "238         0.797514       0.797136      0.000301            127   \n",
       "239         0.797514       0.797136      0.000301            121   \n",
       "\n",
       "     mean_fit_time  std_fit_time  mean_test_time  std_test_time  \\\n",
       "0         0.865285      0.051785        2.922506       0.473516   \n",
       "1         0.333687      0.007513        2.824808       0.489791   \n",
       "2         0.405788      0.069902        3.550119       0.972309   \n",
       "3         0.317628      0.030305        2.552970       0.665288   \n",
       "4         0.335909      0.007057        2.876276       0.536704   \n",
       "..             ...           ...             ...            ...   \n",
       "235       1.786054      0.031412        1.511468       0.310415   \n",
       "236       1.853122      0.099205        1.634170       0.286919   \n",
       "237       2.110701      0.454237        1.775244       0.448686   \n",
       "238       1.774862      0.011656        1.771940       0.430656   \n",
       "239       1.816161      0.025857        1.692796       0.349447   \n",
       "\n",
       "                                                params  \\\n",
       "0    {'bsl_options': {'method': 'als', 'n_epochs': ...   \n",
       "1    {'bsl_options': {'method': 'als', 'n_epochs': ...   \n",
       "2    {'bsl_options': {'method': 'als', 'n_epochs': ...   \n",
       "3    {'bsl_options': {'method': 'als', 'n_epochs': ...   \n",
       "4    {'bsl_options': {'method': 'als', 'n_epochs': ...   \n",
       "..                                                 ...   \n",
       "235  {'bsl_options': {'method': 'sgd', 'n_epochs': ...   \n",
       "236  {'bsl_options': {'method': 'sgd', 'n_epochs': ...   \n",
       "237  {'bsl_options': {'method': 'sgd', 'n_epochs': ...   \n",
       "238  {'bsl_options': {'method': 'sgd', 'n_epochs': ...   \n",
       "239  {'bsl_options': {'method': 'sgd', 'n_epochs': ...   \n",
       "\n",
       "                                     param_bsl_options  \n",
       "0    {'method': 'als', 'n_epochs': 1, 'reg_u': 3, '...  \n",
       "1    {'method': 'als', 'n_epochs': 1, 'reg_u': 3, '...  \n",
       "2    {'method': 'als', 'n_epochs': 1, 'reg_u': 3, '...  \n",
       "3    {'method': 'als', 'n_epochs': 1, 'reg_u': 3, '...  \n",
       "4    {'method': 'als', 'n_epochs': 1, 'reg_u': 6, '...  \n",
       "..                                                 ...  \n",
       "235  {'method': 'sgd', 'n_epochs': 10, 'reg_u': 6, ...  \n",
       "236  {'method': 'sgd', 'n_epochs': 10, 'reg_u': 9, ...  \n",
       "237  {'method': 'sgd', 'n_epochs': 10, 'reg_u': 9, ...  \n",
       "238  {'method': 'sgd', 'n_epochs': 10, 'reg_u': 9, ...  \n",
       "239  {'method': 'sgd', 'n_epochs': 10, 'reg_u': 9, ...  \n",
       "\n",
       "[240 rows x 18 columns]"
      ]
     },
     "execution_count": 220,
     "metadata": {},
     "output_type": "execute_result"
    }
   ],
   "source": [
    "pd.DataFrame(gcv.cv_results)"
   ]
  },
  {
   "cell_type": "code",
   "execution_count": 222,
   "id": "63a14f1d",
   "metadata": {},
   "outputs": [
    {
     "data": {
      "text/plain": [
       "{'bsl_options': {'method': 'als', 'n_epochs': 2, 'reg_u': 6, 'reg_i': 20}}"
      ]
     },
     "execution_count": 222,
     "metadata": {},
     "output_type": "execute_result"
    }
   ],
   "source": [
    "gcv.best_params['rmse']"
   ]
  },
  {
   "cell_type": "code",
   "execution_count": 223,
   "id": "94687634",
   "metadata": {},
   "outputs": [
    {
     "data": {
      "text/plain": [
       "1.041419298530762"
      ]
     },
     "execution_count": 223,
     "metadata": {},
     "output_type": "execute_result"
    }
   ],
   "source": [
    " gcv.best_score['rmse']"
   ]
  },
  {
   "cell_type": "code",
   "execution_count": 10,
   "id": "84ebe402",
   "metadata": {},
   "outputs": [],
   "source": [
    "best_params = {'bsl_options': {'method': 'als',\n",
    "                               'n_epochs': 2,\n",
    "                               'reg_u': 6,\n",
    "                               'reg_i': 20}\n",
    "              }\n",
    "best_baseline = BaselineOnly(best_params)"
   ]
  },
  {
   "cell_type": "code",
   "execution_count": 52,
   "id": "aabe8e30",
   "metadata": {},
   "outputs": [
    {
     "name": "stdout",
     "output_type": "stream",
     "text": [
      "Estimating biases using als...\n"
     ]
    },
    {
     "data": {
      "text/plain": [
       "<surprise.prediction_algorithms.baseline_only.BaselineOnly at 0x20d5bce1550>"
      ]
     },
     "execution_count": 52,
     "metadata": {},
     "output_type": "execute_result"
    }
   ],
   "source": [
    "best_baseline.fit(train_data)"
   ]
  },
  {
   "cell_type": "code",
   "execution_count": 55,
   "id": "93b51cfa",
   "metadata": {},
   "outputs": [],
   "source": [
    "predictions = best_baseline.test(test_data)"
   ]
  },
  {
   "cell_type": "code",
   "execution_count": 58,
   "id": "f1b8dd15",
   "metadata": {},
   "outputs": [
    {
     "name": "stdout",
     "output_type": "stream",
     "text": [
      "MSE: 1.0856\n",
      "1.0856056622894739\n",
      "RMSE: 1.0419\n",
      "1.0419240194416644\n",
      "MAE:  0.7891\n",
      "0.7891473934159209\n"
     ]
    }
   ],
   "source": [
    "## Results on Test Data\n",
    "print(accuracy.mse(predictions))\n",
    "print(accuracy.rmse(predictions))\n",
    "print(accuracy.mae(predictions))"
   ]
  },
  {
   "cell_type": "code",
   "execution_count": 67,
   "id": "6bfffadd",
   "metadata": {},
   "outputs": [],
   "source": [
    "model_params = str({\"method\": \"als\",\"n_epochs\": 2,\"reg_u\": 6,\"reg_i\": 20})"
   ]
  },
  {
   "cell_type": "code",
   "execution_count": 73,
   "id": "4bc666a3",
   "metadata": {},
   "outputs": [
    {
     "data": {
      "text/html": [
       "<div>\n",
       "<style scoped>\n",
       "    .dataframe tbody tr th:only-of-type {\n",
       "        vertical-align: middle;\n",
       "    }\n",
       "\n",
       "    .dataframe tbody tr th {\n",
       "        vertical-align: top;\n",
       "    }\n",
       "\n",
       "    .dataframe thead th {\n",
       "        text-align: right;\n",
       "    }\n",
       "</style>\n",
       "<table border=\"1\" class=\"dataframe\">\n",
       "  <thead>\n",
       "    <tr style=\"text-align: right;\">\n",
       "      <th></th>\n",
       "      <th>model</th>\n",
       "      <th>model_params</th>\n",
       "      <th>mse</th>\n",
       "      <th>rmse</th>\n",
       "      <th>mae</th>\n",
       "    </tr>\n",
       "  </thead>\n",
       "  <tbody>\n",
       "    <tr>\n",
       "      <th>0</th>\n",
       "      <td>baseline</td>\n",
       "      <td>{'method': 'als', 'n_epochs': 2, 'reg_u': 6, '...</td>\n",
       "      <td>1.0856</td>\n",
       "      <td>1.0419</td>\n",
       "      <td>0.7891</td>\n",
       "    </tr>\n",
       "  </tbody>\n",
       "</table>\n",
       "</div>"
      ],
      "text/plain": [
       "      model                                       model_params     mse  \\\n",
       "0  baseline  {'method': 'als', 'n_epochs': 2, 'reg_u': 6, '...  1.0856   \n",
       "\n",
       "     rmse     mae  \n",
       "0  1.0419  0.7891  "
      ]
     },
     "execution_count": 73,
     "metadata": {},
     "output_type": "execute_result"
    }
   ],
   "source": [
    "test_results_df = pd.DataFrame({'model' : ['baseline'],\n",
    "                               'model_params': [model_params],\n",
    "                               'mse':[1.0856],\n",
    "                               'rmse':[1.0419],\n",
    "                               'mae':[0.7891]})\n",
    "test_results_df"
   ]
  },
  {
   "cell_type": "markdown",
   "id": "67eda473",
   "metadata": {},
   "source": [
    "## 2.Normal Predictor\n",
    "* Let's try Normal Predictor and check how good are the results"
   ]
  },
  {
   "cell_type": "code",
   "execution_count": 79,
   "id": "488858e9",
   "metadata": {},
   "outputs": [],
   "source": [
    "normal_predictor = NormalPredictor()\n",
    "normal_predictor.fit(train_data)\n",
    "normal_predictions = normal_predictor.test(test_data)"
   ]
  },
  {
   "cell_type": "code",
   "execution_count": 80,
   "id": "74814b31",
   "metadata": {},
   "outputs": [
    {
     "name": "stdout",
     "output_type": "stream",
     "text": [
      "MSE: 1.8630\n",
      "1.862968610956503\n",
      "RMSE: 1.3649\n",
      "1.3649060813684226\n",
      "MAE:  0.9959\n",
      "0.9959250715455104\n"
     ]
    }
   ],
   "source": [
    "print(accuracy.mse(normal_predictions))\n",
    "print(accuracy.rmse(normal_predictions))\n",
    "print(accuracy.mae(normal_predictions))"
   ]
  },
  {
   "cell_type": "code",
   "execution_count": 92,
   "id": "37ee66a4",
   "metadata": {},
   "outputs": [],
   "source": [
    "test_results_df = test_results_df.append({'model': 'Normal_predictor','model_params':'','mse':1.8630,'rmse':1.3649,'mae':0.9959},ignore_index=True)"
   ]
  },
  {
   "cell_type": "code",
   "execution_count": 93,
   "id": "cf68e927",
   "metadata": {},
   "outputs": [
    {
     "data": {
      "text/html": [
       "<div>\n",
       "<style scoped>\n",
       "    .dataframe tbody tr th:only-of-type {\n",
       "        vertical-align: middle;\n",
       "    }\n",
       "\n",
       "    .dataframe tbody tr th {\n",
       "        vertical-align: top;\n",
       "    }\n",
       "\n",
       "    .dataframe thead th {\n",
       "        text-align: right;\n",
       "    }\n",
       "</style>\n",
       "<table border=\"1\" class=\"dataframe\">\n",
       "  <thead>\n",
       "    <tr style=\"text-align: right;\">\n",
       "      <th></th>\n",
       "      <th>model</th>\n",
       "      <th>model_params</th>\n",
       "      <th>mse</th>\n",
       "      <th>rmse</th>\n",
       "      <th>mae</th>\n",
       "    </tr>\n",
       "  </thead>\n",
       "  <tbody>\n",
       "    <tr>\n",
       "      <th>0</th>\n",
       "      <td>baseline</td>\n",
       "      <td>{'method': 'als', 'n_epochs': 2, 'reg_u': 6, '...</td>\n",
       "      <td>1.0856</td>\n",
       "      <td>1.0419</td>\n",
       "      <td>0.7891</td>\n",
       "    </tr>\n",
       "    <tr>\n",
       "      <th>1</th>\n",
       "      <td>Normal_predictor</td>\n",
       "      <td></td>\n",
       "      <td>1.8630</td>\n",
       "      <td>1.3649</td>\n",
       "      <td>0.9959</td>\n",
       "    </tr>\n",
       "  </tbody>\n",
       "</table>\n",
       "</div>"
      ],
      "text/plain": [
       "              model                                       model_params  \\\n",
       "0          baseline  {'method': 'als', 'n_epochs': 2, 'reg_u': 6, '...   \n",
       "1  Normal_predictor                                                      \n",
       "\n",
       "      mse    rmse     mae  \n",
       "0  1.0856  1.0419  0.7891  \n",
       "1  1.8630  1.3649  0.9959  "
      ]
     },
     "execution_count": 93,
     "metadata": {},
     "output_type": "execute_result"
    }
   ],
   "source": [
    "test_results_df"
   ]
  },
  {
   "cell_type": "markdown",
   "id": "aa87b185",
   "metadata": {},
   "source": [
    "## 3.Similarity Measure based KNN"
   ]
  },
  {
   "cell_type": "code",
   "execution_count": 105,
   "id": "44a43813",
   "metadata": {},
   "outputs": [],
   "source": [
    "param_grid = {\n",
    "        'k' : [i for i in range(5,21,5)],\n",
    "        'sim_options' : {\n",
    "            'name' : ['msd','cosine','pearson','pearson_baseline'],\n",
    "            'user_based' : [True]\n",
    "        },\n",
    "        'verbose': [False]\n",
    "}"
   ]
  },
  {
   "cell_type": "code",
   "execution_count": 107,
   "id": "4ab2a862",
   "metadata": {},
   "outputs": [],
   "source": [
    "gcv = GridSearchCV(KNNBasic,param_grid,cv=3)"
   ]
  },
  {
   "cell_type": "code",
   "execution_count": 117,
   "id": "14a5a370",
   "metadata": {},
   "outputs": [],
   "source": [
    "train_data,test_data=train_test_split(final_df)"
   ]
  },
  {
   "cell_type": "code",
   "execution_count": 119,
   "id": "fbf4166e",
   "metadata": {},
   "outputs": [
    {
     "data": {
      "text/plain": [
       "(709185, 3)"
      ]
     },
     "execution_count": 119,
     "metadata": {},
     "output_type": "execute_result"
    }
   ],
   "source": [
    "train_data.shape"
   ]
  },
  {
   "cell_type": "code",
   "execution_count": 120,
   "id": "4a2e495e",
   "metadata": {},
   "outputs": [
    {
     "data": {
      "text/plain": [
       "(236395, 3)"
      ]
     },
     "execution_count": 120,
     "metadata": {},
     "output_type": "execute_result"
    }
   ],
   "source": [
    "test_data.shape"
   ]
  },
  {
   "cell_type": "code",
   "execution_count": 122,
   "id": "10bb1220",
   "metadata": {},
   "outputs": [],
   "source": [
    "train_set = Dataset.load_from_df(train_data,reader)"
   ]
  },
  {
   "cell_type": "markdown",
   "id": "59260058",
   "metadata": {},
   "source": [
    "* Got Memory restrictions using KNN.\n",
    "* As it has to create a similarity matrix and requires about 165GB of memory."
   ]
  },
  {
   "cell_type": "markdown",
   "id": "cb77372e",
   "metadata": {},
   "source": [
    "## 4. Matrix Factorization methods\n",
    "### 4.1 SVD "
   ]
  },
  {
   "cell_type": "code",
   "execution_count": 158,
   "id": "7655e368",
   "metadata": {},
   "outputs": [],
   "source": [
    "param_grid = {\n",
    "        'n_factors' : [i for i in range(20,110,40)],\n",
    "        'n_epochs' : [j for j in range(20,110,40)],\n",
    "        'biased':[True],\n",
    "        'lr_all':[0.001*i for i in range(2,6,1)],\n",
    "        'reg_all':[0.01*j for j in range(2,6,1)],\n",
    "        'random_state':[42],\n",
    "        'verbose':[True]\n",
    "}"
   ]
  },
  {
   "cell_type": "code",
   "execution_count": 159,
   "id": "e18bd1ea",
   "metadata": {},
   "outputs": [
    {
     "data": {
      "text/plain": [
       "{'n_factors': [20, 60, 100],\n",
       " 'n_epochs': [20, 60, 100],\n",
       " 'biased': [True],\n",
       " 'lr_all': [0.002, 0.003, 0.004, 0.005],\n",
       " 'reg_all': [0.02, 0.03, 0.04, 0.05],\n",
       " 'random_state': [42],\n",
       " 'verbose': [True]}"
      ]
     },
     "execution_count": 159,
     "metadata": {},
     "output_type": "execute_result"
    }
   ],
   "source": [
    "param_grid"
   ]
  },
  {
   "cell_type": "code",
   "execution_count": 160,
   "id": "5fa75f3a",
   "metadata": {},
   "outputs": [],
   "source": [
    "gcv = GridSearchCV(SVD,param_grid,cv=3)"
   ]
  },
  {
   "cell_type": "code",
   "execution_count": null,
   "id": "da12cc05",
   "metadata": {},
   "outputs": [],
   "source": [
    "gcv.fit(train_set)"
   ]
  },
  {
   "cell_type": "markdown",
   "id": "3bda1f9c",
   "metadata": {},
   "source": [
    "### 4.2 Saving SVD GCV Object"
   ]
  },
  {
   "cell_type": "code",
   "execution_count": 162,
   "id": "d63d4abc",
   "metadata": {},
   "outputs": [],
   "source": [
    "sampleFile = open('SVD_GridSearchCVObject','wb')\n",
    "pickle.dump(gcv,sampleFile)\n",
    "sampleFile.close()"
   ]
  },
  {
   "cell_type": "code",
   "execution_count": 20,
   "id": "77f0c588",
   "metadata": {},
   "outputs": [],
   "source": [
    "sampleFile = open('SVD_GridSearchCVObject','rb')\n",
    "gcv = pickle.load(sampleFile)\n",
    "sampleFile.close()"
   ]
  },
  {
   "cell_type": "code",
   "execution_count": 164,
   "id": "d4646346",
   "metadata": {},
   "outputs": [],
   "source": [
    "svd_gcv_results = pd.DataFrame(gcv.cv_results)"
   ]
  },
  {
   "cell_type": "markdown",
   "id": "309dcc8f",
   "metadata": {},
   "source": [
    "### 4.3 Saving the Grid Search CV Object for SVD"
   ]
  },
  {
   "cell_type": "code",
   "execution_count": 167,
   "id": "addc5d2b",
   "metadata": {},
   "outputs": [],
   "source": [
    "sampleFile = open('svd_gcv_results','wb')\n",
    "pickle.dump(svd_gcv_results,sampleFile)\n",
    "sampleFile.close()"
   ]
  },
  {
   "cell_type": "code",
   "execution_count": 19,
   "id": "67e5371f",
   "metadata": {},
   "outputs": [],
   "source": [
    "sampleFile = open('svd_gcv_results','rb')\n",
    "svd_gcv_results = pickle.load(sampleFile)\n",
    "sampleFile.close()"
   ]
  },
  {
   "cell_type": "code",
   "execution_count": 168,
   "id": "8986dc6b",
   "metadata": {},
   "outputs": [
    {
     "data": {
      "text/plain": [
       "1.0447719085861091"
      ]
     },
     "execution_count": 168,
     "metadata": {},
     "output_type": "execute_result"
    }
   ],
   "source": [
    "gcv.best_score['rmse']"
   ]
  },
  {
   "cell_type": "code",
   "execution_count": 169,
   "id": "a143faeb",
   "metadata": {},
   "outputs": [
    {
     "data": {
      "text/plain": [
       "{'n_factors': 20,\n",
       " 'n_epochs': 20,\n",
       " 'biased': True,\n",
       " 'lr_all': 0.005,\n",
       " 'reg_all': 0.02,\n",
       " 'random_state': 42,\n",
       " 'verbose': True}"
      ]
     },
     "execution_count": 169,
     "metadata": {},
     "output_type": "execute_result"
    }
   ],
   "source": [
    "gcv.best_params['rmse']"
   ]
  },
  {
   "cell_type": "code",
   "execution_count": 170,
   "id": "53fe5beb",
   "metadata": {},
   "outputs": [
    {
     "data": {
      "text/plain": [
       "{'n_factors': 100,\n",
       " 'n_epochs': 100,\n",
       " 'biased': True,\n",
       " 'lr_all': 0.005,\n",
       " 'reg_all': 0.05,\n",
       " 'random_state': 42,\n",
       " 'verbose': True}"
      ]
     },
     "execution_count": 170,
     "metadata": {},
     "output_type": "execute_result"
    }
   ],
   "source": [
    "gcv.best_params['mae']"
   ]
  },
  {
   "cell_type": "code",
   "execution_count": 172,
   "id": "f7a4963e",
   "metadata": {},
   "outputs": [
    {
     "data": {
      "text/plain": [
       "0.7645253457990907"
      ]
     },
     "execution_count": 172,
     "metadata": {},
     "output_type": "execute_result"
    }
   ],
   "source": [
    "gcv.best_score['mae']"
   ]
  },
  {
   "cell_type": "markdown",
   "id": "356bd857",
   "metadata": {},
   "source": [
    "### 4.4 Building a model out of best parameters based on RMSE "
   ]
  },
  {
   "cell_type": "code",
   "execution_count": 93,
   "id": "468d509c",
   "metadata": {},
   "outputs": [],
   "source": [
    "svd = SVD(n_factors = 20,\n",
    "          n_epochs = 20,\n",
    "          biased = True,\n",
    "          lr_all = 0.005,\n",
    "          reg_all = 0.02,\n",
    "          random_state = 42,\n",
    "          verbose = True)"
   ]
  },
  {
   "cell_type": "code",
   "execution_count": null,
   "id": "1928def6",
   "metadata": {},
   "outputs": [],
   "source": [
    "svd.fit(train_set_obj)"
   ]
  },
  {
   "cell_type": "code",
   "execution_count": 124,
   "id": "70d3f736",
   "metadata": {},
   "outputs": [],
   "source": [
    "test_results = svd.test(test_set_obj)"
   ]
  },
  {
   "cell_type": "code",
   "execution_count": 127,
   "id": "dc0dcba7",
   "metadata": {},
   "outputs": [
    {
     "name": "stdout",
     "output_type": "stream",
     "text": [
      "MSE: 1.0700\n",
      "1.0699991113823952\n",
      "RMSE: 1.0344\n",
      "1.0344076137492393\n",
      "MAE:  0.7712\n",
      "0.7712473920996156\n"
     ]
    }
   ],
   "source": [
    "## Results on Test Data\n",
    "print(accuracy.mse(test_results))\n",
    "print(accuracy.rmse(test_results))\n",
    "print(accuracy.mae(test_results))"
   ]
  },
  {
   "cell_type": "code",
   "execution_count": 132,
   "id": "ee94117e",
   "metadata": {},
   "outputs": [
    {
     "data": {
      "text/html": [
       "<div>\n",
       "<style scoped>\n",
       "    .dataframe tbody tr th:only-of-type {\n",
       "        vertical-align: middle;\n",
       "    }\n",
       "\n",
       "    .dataframe tbody tr th {\n",
       "        vertical-align: top;\n",
       "    }\n",
       "\n",
       "    .dataframe thead th {\n",
       "        text-align: right;\n",
       "    }\n",
       "</style>\n",
       "<table border=\"1\" class=\"dataframe\">\n",
       "  <thead>\n",
       "    <tr style=\"text-align: right;\">\n",
       "      <th></th>\n",
       "      <th>model</th>\n",
       "      <th>model_params</th>\n",
       "      <th>mse</th>\n",
       "      <th>rmse</th>\n",
       "      <th>mae</th>\n",
       "    </tr>\n",
       "  </thead>\n",
       "  <tbody>\n",
       "    <tr>\n",
       "      <th>0</th>\n",
       "      <td>baseline</td>\n",
       "      <td>{'method': 'als', 'n_epochs': 2, 'reg_u': 6, '...</td>\n",
       "      <td>1.0856</td>\n",
       "      <td>1.0419</td>\n",
       "      <td>0.7891</td>\n",
       "    </tr>\n",
       "    <tr>\n",
       "      <th>1</th>\n",
       "      <td>Normal_predictor</td>\n",
       "      <td></td>\n",
       "      <td>1.8630</td>\n",
       "      <td>1.3649</td>\n",
       "      <td>0.9959</td>\n",
       "    </tr>\n",
       "  </tbody>\n",
       "</table>\n",
       "</div>"
      ],
      "text/plain": [
       "              model                                       model_params  \\\n",
       "0          baseline  {'method': 'als', 'n_epochs': 2, 'reg_u': 6, '...   \n",
       "1  Normal_predictor                                                      \n",
       "\n",
       "      mse    rmse     mae  \n",
       "0  1.0856  1.0419  0.7891  \n",
       "1  1.8630  1.3649  0.9959  "
      ]
     },
     "execution_count": 132,
     "metadata": {},
     "output_type": "execute_result"
    }
   ],
   "source": [
    "test_results_df"
   ]
  },
  {
   "cell_type": "code",
   "execution_count": 166,
   "id": "50fe471c",
   "metadata": {},
   "outputs": [],
   "source": [
    "test_results_df = test_results_df.append({'model': 'SVD','model_params':gcv.best_params['rmse'],'mse':1.0700,'rmse':1.0344,'mae':0.7712},ignore_index=True)"
   ]
  },
  {
   "cell_type": "code",
   "execution_count": 148,
   "id": "7e723c69",
   "metadata": {},
   "outputs": [],
   "source": [
    "sampleFile = open('svd','wb')\n",
    "pickle.dump(svd,sampleFile)\n",
    "sampleFile.close()"
   ]
  },
  {
   "cell_type": "code",
   "execution_count": 150,
   "id": "e9dba2ae",
   "metadata": {},
   "outputs": [
    {
     "name": "stdout",
     "output_type": "stream",
     "text": [
      "(155283, 20)\n",
      "(38079, 20)\n"
     ]
    }
   ],
   "source": [
    "print(svd.pu.shape)\n",
    "print(svd.qi.shape)"
   ]
  },
  {
   "cell_type": "markdown",
   "id": "cf868a62",
   "metadata": {},
   "source": [
    "Pu and Qi features provide us with vectors to find similarities between users and items"
   ]
  },
  {
   "cell_type": "markdown",
   "id": "19a3bb1b",
   "metadata": {},
   "source": [
    "### 4.5 Building a model based on best parameters of MAE"
   ]
  },
  {
   "cell_type": "code",
   "execution_count": 160,
   "id": "6f174930",
   "metadata": {},
   "outputs": [
    {
     "data": {
      "text/plain": [
       "{'n_factors': 100,\n",
       " 'n_epochs': 100,\n",
       " 'biased': True,\n",
       " 'lr_all': 0.005,\n",
       " 'reg_all': 0.05,\n",
       " 'random_state': 42,\n",
       " 'verbose': True}"
      ]
     },
     "execution_count": 160,
     "metadata": {},
     "output_type": "execute_result"
    }
   ],
   "source": [
    "gcv.best_params['mae']"
   ]
  },
  {
   "cell_type": "code",
   "execution_count": null,
   "id": "44061069",
   "metadata": {},
   "outputs": [],
   "source": [
    "svd = SVD(n_factors=100,n_epochs= 100,biased=True,\n",
    "         lr_all=0.005,reg_all=0.05,random_state=42,\n",
    "         verbose=True)\n",
    "svd.fit(train_set_obj)"
   ]
  },
  {
   "cell_type": "code",
   "execution_count": 162,
   "id": "a675242b",
   "metadata": {},
   "outputs": [],
   "source": [
    "test_results = svd.test(test_set_obj)"
   ]
  },
  {
   "cell_type": "code",
   "execution_count": 163,
   "id": "a17899cf",
   "metadata": {},
   "outputs": [
    {
     "name": "stdout",
     "output_type": "stream",
     "text": [
      "MSE: 1.0813\n",
      "1.0813104425425235\n",
      "RMSE: 1.0399\n",
      "1.039860780365585\n",
      "MAE:  0.7488\n",
      "0.7487649005266127\n"
     ]
    }
   ],
   "source": [
    "## Results on Test Data\n",
    "print(accuracy.mse(test_results))\n",
    "print(accuracy.rmse(test_results))\n",
    "print(accuracy.mae(test_results))"
   ]
  },
  {
   "cell_type": "code",
   "execution_count": 164,
   "id": "532f60b3",
   "metadata": {},
   "outputs": [
    {
     "data": {
      "text/html": [
       "<div>\n",
       "<style scoped>\n",
       "    .dataframe tbody tr th:only-of-type {\n",
       "        vertical-align: middle;\n",
       "    }\n",
       "\n",
       "    .dataframe tbody tr th {\n",
       "        vertical-align: top;\n",
       "    }\n",
       "\n",
       "    .dataframe thead th {\n",
       "        text-align: right;\n",
       "    }\n",
       "</style>\n",
       "<table border=\"1\" class=\"dataframe\">\n",
       "  <thead>\n",
       "    <tr style=\"text-align: right;\">\n",
       "      <th></th>\n",
       "      <th>model</th>\n",
       "      <th>model_params</th>\n",
       "      <th>mse</th>\n",
       "      <th>rmse</th>\n",
       "      <th>mae</th>\n",
       "    </tr>\n",
       "  </thead>\n",
       "  <tbody>\n",
       "    <tr>\n",
       "      <th>0</th>\n",
       "      <td>baseline</td>\n",
       "      <td>{'method': 'als', 'n_epochs': 2, 'reg_u': 6, '...</td>\n",
       "      <td>1.0856</td>\n",
       "      <td>1.0419</td>\n",
       "      <td>0.7891</td>\n",
       "    </tr>\n",
       "    <tr>\n",
       "      <th>1</th>\n",
       "      <td>Normal_predictor</td>\n",
       "      <td></td>\n",
       "      <td>1.8630</td>\n",
       "      <td>1.3649</td>\n",
       "      <td>0.9959</td>\n",
       "    </tr>\n",
       "    <tr>\n",
       "      <th>2</th>\n",
       "      <td>SVD</td>\n",
       "      <td>{'n_factors': 100, 'n_epochs': 100, 'biased': ...</td>\n",
       "      <td>1.0813</td>\n",
       "      <td>1.0399</td>\n",
       "      <td>0.7488</td>\n",
       "    </tr>\n",
       "  </tbody>\n",
       "</table>\n",
       "</div>"
      ],
      "text/plain": [
       "              model                                       model_params  \\\n",
       "0          baseline  {'method': 'als', 'n_epochs': 2, 'reg_u': 6, '...   \n",
       "1  Normal_predictor                                                      \n",
       "2               SVD  {'n_factors': 100, 'n_epochs': 100, 'biased': ...   \n",
       "\n",
       "      mse    rmse     mae  \n",
       "0  1.0856  1.0419  0.7891  \n",
       "1  1.8630  1.3649  0.9959  \n",
       "2  1.0813  1.0399  0.7488  "
      ]
     },
     "execution_count": 164,
     "metadata": {},
     "output_type": "execute_result"
    }
   ],
   "source": [
    "test_results_df.append({'model': 'SVD','model_params':gcv.best_params['mae'],'mse':1.0813,'rmse':1.0399,'mae':0.7488},ignore_index=True)"
   ]
  },
  {
   "cell_type": "code",
   "execution_count": 169,
   "id": "1b5a0697",
   "metadata": {},
   "outputs": [],
   "source": [
    "test_results_df=test_results_df.append({'model': 'SVD','model_params':gcv.best_params['mae'],'mse':1.0813,'rmse':1.0399,'mae':0.7488},ignore_index=True)"
   ]
  },
  {
   "cell_type": "code",
   "execution_count": 172,
   "id": "e2e6eec6",
   "metadata": {},
   "outputs": [],
   "source": [
    "test_results_df.drop(axis=0,index=3,inplace=True)"
   ]
  },
  {
   "cell_type": "code",
   "execution_count": 173,
   "id": "732d4033",
   "metadata": {},
   "outputs": [
    {
     "data": {
      "text/html": [
       "<div>\n",
       "<style scoped>\n",
       "    .dataframe tbody tr th:only-of-type {\n",
       "        vertical-align: middle;\n",
       "    }\n",
       "\n",
       "    .dataframe tbody tr th {\n",
       "        vertical-align: top;\n",
       "    }\n",
       "\n",
       "    .dataframe thead th {\n",
       "        text-align: right;\n",
       "    }\n",
       "</style>\n",
       "<table border=\"1\" class=\"dataframe\">\n",
       "  <thead>\n",
       "    <tr style=\"text-align: right;\">\n",
       "      <th></th>\n",
       "      <th>model</th>\n",
       "      <th>model_params</th>\n",
       "      <th>mse</th>\n",
       "      <th>rmse</th>\n",
       "      <th>mae</th>\n",
       "    </tr>\n",
       "  </thead>\n",
       "  <tbody>\n",
       "    <tr>\n",
       "      <th>0</th>\n",
       "      <td>baseline</td>\n",
       "      <td>{'method': 'als', 'n_epochs': 2, 'reg_u': 6, '...</td>\n",
       "      <td>1.0856</td>\n",
       "      <td>1.0419</td>\n",
       "      <td>0.7891</td>\n",
       "    </tr>\n",
       "    <tr>\n",
       "      <th>1</th>\n",
       "      <td>Normal_predictor</td>\n",
       "      <td></td>\n",
       "      <td>1.8630</td>\n",
       "      <td>1.3649</td>\n",
       "      <td>0.9959</td>\n",
       "    </tr>\n",
       "    <tr>\n",
       "      <th>2</th>\n",
       "      <td>SVD</td>\n",
       "      <td>{'n_factors': 20, 'n_epochs': 20, 'biased': Tr...</td>\n",
       "      <td>1.0700</td>\n",
       "      <td>1.0344</td>\n",
       "      <td>0.7712</td>\n",
       "    </tr>\n",
       "    <tr>\n",
       "      <th>4</th>\n",
       "      <td>SVD</td>\n",
       "      <td>{'n_factors': 100, 'n_epochs': 100, 'biased': ...</td>\n",
       "      <td>1.0813</td>\n",
       "      <td>1.0399</td>\n",
       "      <td>0.7488</td>\n",
       "    </tr>\n",
       "  </tbody>\n",
       "</table>\n",
       "</div>"
      ],
      "text/plain": [
       "              model                                       model_params  \\\n",
       "0          baseline  {'method': 'als', 'n_epochs': 2, 'reg_u': 6, '...   \n",
       "1  Normal_predictor                                                      \n",
       "2               SVD  {'n_factors': 20, 'n_epochs': 20, 'biased': Tr...   \n",
       "4               SVD  {'n_factors': 100, 'n_epochs': 100, 'biased': ...   \n",
       "\n",
       "      mse    rmse     mae  \n",
       "0  1.0856  1.0419  0.7891  \n",
       "1  1.8630  1.3649  0.9959  \n",
       "2  1.0700  1.0344  0.7712  \n",
       "4  1.0813  1.0399  0.7488  "
      ]
     },
     "execution_count": 173,
     "metadata": {},
     "output_type": "execute_result"
    }
   ],
   "source": [
    "test_results_df.head()"
   ]
  },
  {
   "cell_type": "code",
   "execution_count": 174,
   "id": "d344b722",
   "metadata": {},
   "outputs": [],
   "source": [
    "sampleFile = open('svd_mae','wb')\n",
    "pickle.dump(svd,sampleFile)\n",
    "sampleFile.close()"
   ]
  },
  {
   "cell_type": "markdown",
   "id": "60948507",
   "metadata": {},
   "source": [
    "* After realising that it took almost two and a half days for the SVD algorithm to complete its execution\n",
    "* I'll now first try the SVDpp and NMF with their default parameters and see if there is any major difference in mse,rmse and mae values without hyper-parameter tuning\n",
    "* Let's try with SVDpp"
   ]
  },
  {
   "cell_type": "markdown",
   "id": "fd7b6cc2",
   "metadata": {},
   "source": [
    "## 4.6 SVDpp"
   ]
  },
  {
   "cell_type": "code",
   "execution_count": 178,
   "id": "f8d5c3df",
   "metadata": {},
   "outputs": [
    {
     "data": {
      "text/plain": [
       "<surprise.prediction_algorithms.matrix_factorization.SVDpp at 0x22af44f39a0>"
      ]
     },
     "execution_count": 178,
     "metadata": {},
     "output_type": "execute_result"
    }
   ],
   "source": [
    "svdpp = SVDpp()\n",
    "svdpp.fit(train_set_obj)"
   ]
  },
  {
   "cell_type": "code",
   "execution_count": 179,
   "id": "bcec3754",
   "metadata": {},
   "outputs": [
    {
     "name": "stdout",
     "output_type": "stream",
     "text": [
      "MSE: 1.0820\n",
      "1.0819692504481035\n",
      "RMSE: 1.0402\n",
      "1.0401775091051064\n",
      "MAE:  0.7602\n",
      "0.7601776878098543\n"
     ]
    }
   ],
   "source": [
    "svdpp_test_results = svdpp.test(test_set_obj)\n",
    "print(accuracy.mse(svdpp_test_results))\n",
    "print(accuracy.rmse(svdpp_test_results))\n",
    "print(accuracy.mae(svdpp_test_results))"
   ]
  },
  {
   "cell_type": "markdown",
   "id": "24cc8fce",
   "metadata": {},
   "source": [
    "* Will not waste my time doing unnecessary hyper-parameter tuning"
   ]
  },
  {
   "cell_type": "code",
   "execution_count": 181,
   "id": "143aa49a",
   "metadata": {},
   "outputs": [],
   "source": [
    "sampleFile = open('svd_pp','wb')\n",
    "pickle.dump(svdpp,sampleFile)\n",
    "sampleFile.close()"
   ]
  },
  {
   "cell_type": "code",
   "execution_count": 182,
   "id": "fc20d4b4",
   "metadata": {},
   "outputs": [],
   "source": [
    "test_results_df = test_results_df.append({'model': 'SVD_pp','model_params':'','mse':1.0820,'rmse':1.0402,'mae':0.7602},ignore_index=True)"
   ]
  },
  {
   "cell_type": "code",
   "execution_count": 183,
   "id": "a3c35fb6",
   "metadata": {},
   "outputs": [
    {
     "data": {
      "text/html": [
       "<div>\n",
       "<style scoped>\n",
       "    .dataframe tbody tr th:only-of-type {\n",
       "        vertical-align: middle;\n",
       "    }\n",
       "\n",
       "    .dataframe tbody tr th {\n",
       "        vertical-align: top;\n",
       "    }\n",
       "\n",
       "    .dataframe thead th {\n",
       "        text-align: right;\n",
       "    }\n",
       "</style>\n",
       "<table border=\"1\" class=\"dataframe\">\n",
       "  <thead>\n",
       "    <tr style=\"text-align: right;\">\n",
       "      <th></th>\n",
       "      <th>model</th>\n",
       "      <th>model_params</th>\n",
       "      <th>mse</th>\n",
       "      <th>rmse</th>\n",
       "      <th>mae</th>\n",
       "    </tr>\n",
       "  </thead>\n",
       "  <tbody>\n",
       "    <tr>\n",
       "      <th>0</th>\n",
       "      <td>baseline</td>\n",
       "      <td>{'method': 'als', 'n_epochs': 2, 'reg_u': 6, '...</td>\n",
       "      <td>1.0856</td>\n",
       "      <td>1.0419</td>\n",
       "      <td>0.7891</td>\n",
       "    </tr>\n",
       "    <tr>\n",
       "      <th>1</th>\n",
       "      <td>Normal_predictor</td>\n",
       "      <td></td>\n",
       "      <td>1.8630</td>\n",
       "      <td>1.3649</td>\n",
       "      <td>0.9959</td>\n",
       "    </tr>\n",
       "    <tr>\n",
       "      <th>2</th>\n",
       "      <td>SVD</td>\n",
       "      <td>{'n_factors': 20, 'n_epochs': 20, 'biased': Tr...</td>\n",
       "      <td>1.0700</td>\n",
       "      <td>1.0344</td>\n",
       "      <td>0.7712</td>\n",
       "    </tr>\n",
       "    <tr>\n",
       "      <th>3</th>\n",
       "      <td>SVD</td>\n",
       "      <td>{'n_factors': 100, 'n_epochs': 100, 'biased': ...</td>\n",
       "      <td>1.0813</td>\n",
       "      <td>1.0399</td>\n",
       "      <td>0.7488</td>\n",
       "    </tr>\n",
       "    <tr>\n",
       "      <th>4</th>\n",
       "      <td>SVD_pp</td>\n",
       "      <td></td>\n",
       "      <td>1.0820</td>\n",
       "      <td>1.0402</td>\n",
       "      <td>0.7602</td>\n",
       "    </tr>\n",
       "  </tbody>\n",
       "</table>\n",
       "</div>"
      ],
      "text/plain": [
       "              model                                       model_params  \\\n",
       "0          baseline  {'method': 'als', 'n_epochs': 2, 'reg_u': 6, '...   \n",
       "1  Normal_predictor                                                      \n",
       "2               SVD  {'n_factors': 20, 'n_epochs': 20, 'biased': Tr...   \n",
       "3               SVD  {'n_factors': 100, 'n_epochs': 100, 'biased': ...   \n",
       "4            SVD_pp                                                      \n",
       "\n",
       "      mse    rmse     mae  \n",
       "0  1.0856  1.0419  0.7891  \n",
       "1  1.8630  1.3649  0.9959  \n",
       "2  1.0700  1.0344  0.7712  \n",
       "3  1.0813  1.0399  0.7488  \n",
       "4  1.0820  1.0402  0.7602  "
      ]
     },
     "execution_count": 183,
     "metadata": {},
     "output_type": "execute_result"
    }
   ],
   "source": [
    "test_results_df.head()"
   ]
  },
  {
   "cell_type": "markdown",
   "id": "d76b7b7c",
   "metadata": {},
   "source": [
    "### 4.7 NMF(Non Negative Matrix Factorization)"
   ]
  },
  {
   "cell_type": "code",
   "execution_count": 186,
   "id": "278b8b96",
   "metadata": {},
   "outputs": [
    {
     "name": "stdout",
     "output_type": "stream",
     "text": [
      "MSE: 1.2726\n",
      "1.2725617526565394\n",
      "RMSE: 1.1281\n",
      "1.1280787883195655\n",
      "MAE:  0.6931\n",
      "0.6930968342663446\n"
     ]
    }
   ],
   "source": [
    "nmf = NMF()\n",
    "nmf.fit(train_set_obj)\n",
    "nmf_test_results = nmf.test(test_set_obj)\n",
    "\n",
    "print(accuracy.mse(nmf_test_results))\n",
    "print(accuracy.rmse(nmf_test_results))\n",
    "print(accuracy.mae(nmf_test_results))"
   ]
  },
  {
   "cell_type": "code",
   "execution_count": 206,
   "id": "71f0642f",
   "metadata": {},
   "outputs": [],
   "source": [
    "sampleFile = open('nmf','wb')\n",
    "pickle.dump(nmf,sampleFile)\n",
    "sampleFile.close()"
   ]
  },
  {
   "cell_type": "code",
   "execution_count": 199,
   "id": "5775b7a8",
   "metadata": {},
   "outputs": [],
   "source": [
    "test_results_df['model_params'].replace({'': 'default'},inplace=True)"
   ]
  },
  {
   "cell_type": "markdown",
   "id": "a74dae92",
   "metadata": {},
   "source": [
    "### 4.8  Slope One"
   ]
  },
  {
   "cell_type": "code",
   "execution_count": 201,
   "id": "56d7aa0d",
   "metadata": {},
   "outputs": [],
   "source": [
    "from surprise import SlopeOne"
   ]
  },
  {
   "cell_type": "code",
   "execution_count": 202,
   "id": "65b5e3c5",
   "metadata": {},
   "outputs": [],
   "source": [
    "slopeOne = SlopeOne()"
   ]
  },
  {
   "cell_type": "code",
   "execution_count": 203,
   "id": "b699e251",
   "metadata": {},
   "outputs": [
    {
     "name": "stderr",
     "output_type": "stream",
     "text": [
      "<ipython-input-203-c284bd264695>:1: DeprecationWarning: `np.int` is a deprecated alias for the builtin `int`. To silence this warning, use `int` by itself. Doing this will not modify any behavior and is safe. When replacing `np.int`, you may wish to use e.g. `np.int64` or `np.int32` to specify the precision. If you wish to review your current use, check the release note link for additional information.\n",
      "Deprecated in NumPy 1.20; for more details and guidance: https://numpy.org/devdocs/release/1.20.0-notes.html#deprecations\n",
      "  slopeOne.fit(train_set_obj)\n"
     ]
    },
    {
     "data": {
      "text/plain": [
       "<surprise.prediction_algorithms.slope_one.SlopeOne at 0x22aaac4b3a0>"
      ]
     },
     "execution_count": 203,
     "metadata": {},
     "output_type": "execute_result"
    }
   ],
   "source": [
    "slopeOne.fit(train_set_obj)"
   ]
  },
  {
   "cell_type": "code",
   "execution_count": 204,
   "id": "802652a5",
   "metadata": {},
   "outputs": [],
   "source": [
    "slopeOne_test_results = slopeOne.test(test_set_obj)"
   ]
  },
  {
   "cell_type": "code",
   "execution_count": 205,
   "id": "7e888736",
   "metadata": {},
   "outputs": [
    {
     "name": "stdout",
     "output_type": "stream",
     "text": [
      "MSE: 1.4240\n",
      "1.424030675487326\n",
      "RMSE: 1.1933\n",
      "1.193327564203277\n",
      "MAE:  0.7953\n",
      "0.7952900539264449\n"
     ]
    }
   ],
   "source": [
    "print(accuracy.mse(slopeOne_test_results))\n",
    "print(accuracy.rmse(slopeOne_test_results))\n",
    "print(accuracy.mae(slopeOne_test_results))"
   ]
  },
  {
   "cell_type": "code",
   "execution_count": 217,
   "id": "23874587",
   "metadata": {},
   "outputs": [],
   "source": [
    "sampleFile = open('test_results_df','wb')\n",
    "pickle.dump(test_results_df,sampleFile)\n",
    "sampleFile.close()"
   ]
  },
  {
   "cell_type": "markdown",
   "id": "3c3f0651",
   "metadata": {},
   "source": [
    "* Let's  import the hashed song_ids and item_ids\n",
    "* Let's obtain the song name after that"
   ]
  },
  {
   "cell_type": "code",
   "execution_count": 3,
   "id": "3431aa55",
   "metadata": {},
   "outputs": [],
   "source": [
    "def returnObj(fileName):\n",
    "    if path.exists(fileName):\n",
    "        sampleFile = open(fileName,'rb')\n",
    "        obj = pickle.load(sampleFile)\n",
    "        sampleFile.close()\n",
    "        return obj\n",
    "    else:\n",
    "        return \"fileName doesn't exist\""
   ]
  },
  {
   "cell_type": "code",
   "execution_count": 4,
   "id": "6190cda2",
   "metadata": {},
   "outputs": [],
   "source": [
    "def dumpObj(obj,fileName):\n",
    "    sampleFile = open(fileName,'wb')\n",
    "    pickle.dump(obj,sampleFile)\n",
    "    sampleFile.close()"
   ]
  },
  {
   "cell_type": "code",
   "execution_count": 6,
   "id": "6ae04d87",
   "metadata": {},
   "outputs": [],
   "source": [
    "merge_ui_df = returnObj('merge_ui_df.pkl')"
   ]
  },
  {
   "cell_type": "code",
   "execution_count": 15,
   "id": "62b02c12",
   "metadata": {},
   "outputs": [],
   "source": [
    "## Trying Similarity Based KNN method"
   ]
  },
  {
   "cell_type": "code",
   "execution_count": 14,
   "id": "dd6329aa",
   "metadata": {},
   "outputs": [
    {
     "data": {
      "text/plain": [
       "<surprise.prediction_algorithms.knns.KNNBasic at 0x240074c9520>"
      ]
     },
     "execution_count": 14,
     "metadata": {},
     "output_type": "execute_result"
    }
   ],
   "source": [
    "sim_options = {'name' : 'cosine',\n",
    "               'user_based' : False,\n",
    "               }\n",
    "algo = KNNBasic(sim_options = sim_options)\n",
    "algo"
   ]
  },
  {
   "cell_type": "code",
   "execution_count": 22,
   "id": "8ae69b0c",
   "metadata": {},
   "outputs": [
    {
     "data": {
      "text/plain": [
       "38091"
      ]
     },
     "execution_count": 22,
     "metadata": {},
     "output_type": "execute_result"
    }
   ],
   "source": [
    "train_data.song_id.nunique()"
   ]
  },
  {
   "cell_type": "code",
   "execution_count": 37,
   "id": "f68e32a1",
   "metadata": {},
   "outputs": [],
   "source": [
    "## creating a similarity matrix using the found ratings is difficult\n",
    "## We'll try to leverage the latent factors obtained for the items and users in svd model \n",
    "## and try to create a similarity matrix out of it\n",
    "## But there's no clear documentation of the indices representation"
   ]
  },
  {
   "cell_type": "code",
   "execution_count": 39,
   "id": "565d2193",
   "metadata": {},
   "outputs": [],
   "source": [
    "#Let's compute the similarity for a single item at run time"
   ]
  },
  {
   "cell_type": "code",
   "execution_count": 9,
   "id": "f193de32",
   "metadata": {},
   "outputs": [],
   "source": [
    "svd = returnObj('svd')"
   ]
  },
  {
   "cell_type": "code",
   "execution_count": 8,
   "id": "a7878c64",
   "metadata": {},
   "outputs": [],
   "source": [
    "def findSimilarUsers(u1):\n",
    "    ## Get the list of all Users\n",
    "    unique_users = train_data['user_id'].unique()\n",
    "    # Iterating through all the users\n",
    "    for u2 in unique_users:\n",
    "        if u1!=u2:\n",
    "            common_songs = findCommonSongs(u1,u2)\n",
    "            if common_songs != 0:\n",
    "                print(\"UserId : \" ,u2)\n",
    "                print(\"Common Songs : \",common_songs)\n",
    "\n",
    "                \n",
    "def findCommonSongs(u1,u2):\n",
    "    u1_songs = set(train_data[train_data['user_id']==u1]['song_id'].values)\n",
    "    u2_songs = set(train_data[train_data['user_id']==u2]['song_id'].values)\n",
    "    common_songs = u1_songs.intersection(u2_songs)\n",
    "    if len(common_songs)==0:\n",
    "        return 0\n",
    "    else:\n",
    "        return common_songs"
   ]
  },
  {
   "cell_type": "code",
   "execution_count": 7,
   "id": "ee0a926a",
   "metadata": {},
   "outputs": [],
   "source": [
    "## Helper function 1\n",
    "def return_min(similar_items_dict):\n",
    "    min = 10000\n",
    "    for value in similar_items_dict.keys():\n",
    "        if value < min:\n",
    "            min = value\n",
    "    return min\n",
    "\n",
    "def computeUserItemVector(user_item_flag,ui):\n",
    "    ## Prepare the list of item vector\n",
    "    unique_songs = train_data.song_id.unique()\n",
    "    triplet_list = []\n",
    "    mean_rating = np.mean(train_data['play_count'])\n",
    "    ## Create user,item,rating triplet\n",
    "    for song in unique_songs:\n",
    "        triplet_list.append((ui,song,mean_rating))\n",
    "    pred = svd.test(triplet_list)\n",
    "    est_values = pd.DataFrame(pred)['est'].values\n",
    "    return est_values\n",
    "\n",
    "## Helper function 2\n",
    "def computeUserItemSimilarity(user_item_flag,latent_factor_flag,i1,i2,sim_method):\n",
    "    ##Converting raw_ids to svd's internal representation\n",
    "    sim = 0\n",
    "    vec_1 = np.array(20)\n",
    "    vec_2 = np.array(20)\n",
    "    \n",
    "    if user_item_flag=='user' and latent_factor_flag==True:\n",
    "        id_1 = train_set_obj.to_inner_uid(i1)\n",
    "        id_2 = train_set_obj.to_inner_uid(i2)\n",
    "        vec_1 = svd.pu[id_1]\n",
    "        vec_2 = svd.pu[id_2]\n",
    "        \n",
    "    elif user_item_flag=='user' and latent_factor_flag==False:\n",
    "        id_1 = train_set_obj.to_inner_uid(i1)\n",
    "        id_2 = train_set_obj.to_inner_uid(i2)\n",
    "        vec_1 = computeUserItemVector(user_item_flag,i1)\n",
    "        vec_2 = computeUserItemVector(user_item_flag,i2)\n",
    "        \n",
    "    elif user_item_flag == 'item' and latent_factor_flag==True:\n",
    "        id_1 = train_set_obj.to_inner_iid(i1)\n",
    "        id_2 = train_set_obj.to_inner_iid(i2)\n",
    "        vec_1 = svd.qi[id_1]\n",
    "        vec_2 = svd.qi[id_2]\n",
    "    \n",
    "    \n",
    "    # Cosine similarity between items\n",
    "    if sim_method == 'cosine':\n",
    "        std_i1_vec = np.sqrt(np.sum(np.square(vec_1)))\n",
    "        std_i2_vec = np.sqrt(np.sum(np.square(vec_2)))\n",
    "        sim = (np.dot(vec_1,vec_2))/((std_i1_vec*std_i2_vec))\n",
    "    \n",
    "    ## Mean Squared Distance\n",
    "    elif sim_method == 'msd':\n",
    "        sim = (np.sum(np.square(vec_1-vec_2)))/len(vec_1)\n",
    "        \n",
    "    ## Pearson Correlation Coefficient\n",
    "    elif sim_method == 'pearson':\n",
    "        i1_cval = vec_1-np.mean(vec_1)\n",
    "        i2_cval = vec_2-np.mean(vec_2)\n",
    "        i1_std_dev = np.sqrt(np.sum(np.square(i1_cval)))\n",
    "        i2_std_dev = np.sqrt(np.sum(np.square(i2_cval)))\n",
    "        num = np.sum(i1_cval*i2_cval)\n",
    "        denom = i1_std_dev * i2_std_dev\n",
    "        sim = num/denom\n",
    "    return sim\n",
    "\n",
    "def findSimilarUserItems(user_item_flag,latent_factor_flag,i1,similarity,k):\n",
    "    \n",
    "    unique_user_items = []\n",
    "    if user_item_flag == 'user':\n",
    "        unique_user_items = train_data['user_id'].unique()\n",
    "    elif user_item_flag == 'item':\n",
    "        unique_user_items = train_data['song_id'].unique()\n",
    "        \n",
    "    #Declaring a dictionary to maintain similar items for a given item\n",
    "    top_k_similar_user_items = {}\n",
    "    min_sim = 0\n",
    "    \n",
    "    #Iterating through all items/users\n",
    "    for i2 in tqdm(unique_user_items):\n",
    "        if i1!=i2:\n",
    "            sim = abs(computeUserItemSimilarity(user_item_flag,latent_factor_flag,i1,i2,similarity))\n",
    "            \n",
    "            ## if similarity is greater than min_sim \n",
    "            if sim > min_sim:\n",
    "                ## then simply append till we find top 10 users\n",
    "                if len(top_k_similar_user_items) < k:\n",
    "                    top_k_similar_user_items[sim] = i2\n",
    "                else:\n",
    "                    ## after finding the top k\n",
    "                    ## we first find the minimum from the dictionary\n",
    "                    min_sim_from_dict = return_min(top_k_similar_user_items)\n",
    "                    \n",
    "                    ## then if found similarity score is greater than minimum from dict\n",
    "                    if sim > min_sim_from_dict:\n",
    "                        # then remove that item from dictionary\n",
    "                        top_k_similar_user_items.pop(min_sim_from_dict)\n",
    "                        \n",
    "                        # update the min_sim\n",
    "                        min_sim = min_sim_from_dict\n",
    "                        top_k_similar_user_items[sim] = i2\n",
    "                        \n",
    "    return top_k_similar_user_items\n",
    "\n",
    "\n",
    "def findIntersectingUserItems(user_item_flag,latent_factor_flag,i1,k,verbose=False):\n",
    "    cosine_sim_items = set(findSimilarUserItems(user_item_flag,latent_factor_flag,i1,'cosine',k).values())\n",
    "    msd_sim_items = set(findSimilarUserItems(user_item_flag,latent_factor_flag,i1,'msd',k).values())\n",
    "    pearson_sim_items = set(findSimilarUserItems(user_item_flag,latent_factor_flag,i1,'pearson',k).values())\n",
    "    intersect = cosine_sim_items.intersection(pearson_sim_items)\n",
    "    \n",
    "    if verbose == True:\n",
    "        print(\"Cosine similarity : \")\n",
    "        print(cosine_sim_items)\n",
    "        print(\"Msd similarity : \")\n",
    "        print(msd_sim_items)\n",
    "        print(\"Pearson similarity : \")\n",
    "        print(pearson_sim_items)\n",
    "    \n",
    "    return intersect"
   ]
  },
  {
   "cell_type": "code",
   "execution_count": 426,
   "id": "f75748a8",
   "metadata": {},
   "outputs": [
    {
     "name": "stdout",
     "output_type": "stream",
     "text": [
      "{222688, 415080, 357773, 7218, 483639, 168826}\n"
     ]
    }
   ],
   "source": [
    "intersect = findIntersectingUserItems('user',True,6706,10)\n",
    "print(intersect)"
   ]
  },
  {
   "cell_type": "code",
   "execution_count": 399,
   "id": "969ec130",
   "metadata": {},
   "outputs": [],
   "source": [
    "#merge_ui_df[merge_ui_df['user_id'].isin(intersect)][['year','artist_name','song_name','song_id','user_id']].drop_duplicates()"
   ]
  },
  {
   "cell_type": "code",
   "execution_count": null,
   "id": "22411525",
   "metadata": {},
   "outputs": [],
   "source": [
    "unique_tracks_df = returnObj('unique_tracks_df.pkl')\n",
    "unique_artist_df = returnObj('unique_artist_df.pkl')\n",
    "tracks_per_year_df = returnObj('tracks_per_year_df.pkl')\n",
    "artist_location_df = returnObj('artist_location_df.pkl')"
   ]
  },
  {
   "cell_type": "code",
   "execution_count": 428,
   "id": "6fafa6ba",
   "metadata": {},
   "outputs": [
    {
     "name": "stderr",
     "output_type": "stream",
     "text": [
      "100%|█████████████████████████████████████████████████████████████████████████| 38091/38091 [00:02<00:00, 17944.23it/s]\n",
      "100%|█████████████████████████████████████████████████████████████████████████| 38091/38091 [00:00<00:00, 44829.14it/s]\n",
      "100%|██████████████████████████████████████████████████████████████████████████| 38091/38091 [00:03<00:00, 9827.17it/s]\n"
     ]
    }
   ],
   "source": [
    "intersect = findIntersectingUserItems('item',True,72454,10)"
   ]
  },
  {
   "cell_type": "code",
   "execution_count": 430,
   "id": "95f384d7",
   "metadata": {},
   "outputs": [],
   "source": [
    "n## Let's try another approach \n",
    "## Till now I worked on the latent factors obtained from svd's pu and qi\n",
    "## Now let's try to create a vector of 38091\n",
    "## and try to find the user-user similarity"
   ]
  },
  {
   "cell_type": "code",
   "execution_count": 431,
   "id": "1cb801b4",
   "metadata": {},
   "outputs": [],
   "source": [
    "## I tried that and it takes too much time \n",
    "## As for every user we have to first find predictions for all the songs\n",
    "## and then do it for all the users and \n",
    "## find a similarity measure between them"
   ]
  },
  {
   "cell_type": "code",
   "execution_count": 13,
   "id": "b93268e3",
   "metadata": {},
   "outputs": [
    {
     "data": {
      "text/plain": [
       "2.3593288"
      ]
     },
     "execution_count": 13,
     "metadata": {},
     "output_type": "execute_result"
    }
   ],
   "source": [
    "(155219*3800*4)/1000000000"
   ]
  },
  {
   "cell_type": "code",
   "execution_count": 14,
   "id": "a275c1eb",
   "metadata": {},
   "outputs": [
    {
     "name": "stderr",
     "output_type": "stream",
     "text": [
      "  6%|████▌                                                                 | 10000/155219 [1:21:31<18:04:14,  2.23it/s]"
     ]
    },
    {
     "name": "stdout",
     "output_type": "stream",
     "text": [
      "Processed 10000 records\n"
     ]
    },
    {
     "name": "stderr",
     "output_type": "stream",
     "text": [
      " 13%|█████████                                                             | 20000/155219 [7:48:01<16:41:10,  2.25it/s]"
     ]
    },
    {
     "name": "stdout",
     "output_type": "stream",
     "text": [
      "Processed 10000 records\n"
     ]
    },
    {
     "name": "stderr",
     "output_type": "stream",
     "text": [
      " 19%|████████████▉                                                        | 29155/155219 [10:45:35<46:31:29,  1.33s/it]\n"
     ]
    },
    {
     "ename": "MemoryError",
     "evalue": "Unable to allocate 1.45 MiB for an array with shape (38091, 5) and data type object",
     "output_type": "error",
     "traceback": [
      "\u001b[1;31m---------------------------------------------------------------------------\u001b[0m",
      "\u001b[1;31mMemoryError\u001b[0m                               Traceback (most recent call last)",
      "\u001b[1;32m<ipython-input-14-a88cdaa1f6be>\u001b[0m in \u001b[0;36m<module>\u001b[1;34m\u001b[0m\n\u001b[0;32m      3\u001b[0m \u001b[0mcount\u001b[0m \u001b[1;33m=\u001b[0m \u001b[1;36m0\u001b[0m\u001b[1;33m\u001b[0m\u001b[1;33m\u001b[0m\u001b[0m\n\u001b[0;32m      4\u001b[0m \u001b[1;32mfor\u001b[0m \u001b[0muser\u001b[0m \u001b[1;32min\u001b[0m \u001b[0mtqdm\u001b[0m\u001b[1;33m(\u001b[0m\u001b[0munique_users\u001b[0m\u001b[1;33m)\u001b[0m\u001b[1;33m:\u001b[0m\u001b[1;33m\u001b[0m\u001b[1;33m\u001b[0m\u001b[0m\n\u001b[1;32m----> 5\u001b[1;33m     \u001b[0muser_vectors\u001b[0m\u001b[1;33m.\u001b[0m\u001b[0mappend\u001b[0m\u001b[1;33m(\u001b[0m\u001b[1;33m{\u001b[0m\u001b[0muser\u001b[0m\u001b[1;33m:\u001b[0m\u001b[0mcomputeUserItemVector\u001b[0m\u001b[1;33m(\u001b[0m\u001b[1;34m'user'\u001b[0m\u001b[1;33m,\u001b[0m\u001b[0muser\u001b[0m\u001b[1;33m)\u001b[0m\u001b[1;33m}\u001b[0m\u001b[1;33m)\u001b[0m\u001b[1;33m\u001b[0m\u001b[1;33m\u001b[0m\u001b[0m\n\u001b[0m\u001b[0;32m      6\u001b[0m     \u001b[0mcount\u001b[0m \u001b[1;33m=\u001b[0m \u001b[0mcount\u001b[0m\u001b[1;33m+\u001b[0m\u001b[1;36m1\u001b[0m\u001b[1;33m\u001b[0m\u001b[1;33m\u001b[0m\u001b[0m\n\u001b[0;32m      7\u001b[0m     \u001b[1;32mif\u001b[0m \u001b[0mcount\u001b[0m\u001b[1;33m%\u001b[0m\u001b[1;36m10000\u001b[0m \u001b[1;33m==\u001b[0m \u001b[1;36m0\u001b[0m\u001b[1;33m:\u001b[0m\u001b[1;33m\u001b[0m\u001b[1;33m\u001b[0m\u001b[0m\n",
      "\u001b[1;32m<ipython-input-7-38598a0043c1>\u001b[0m in \u001b[0;36mcomputeUserItemVector\u001b[1;34m(user_item_flag, ui)\u001b[0m\n\u001b[0;32m     16\u001b[0m         \u001b[0mtriplet_list\u001b[0m\u001b[1;33m.\u001b[0m\u001b[0mappend\u001b[0m\u001b[1;33m(\u001b[0m\u001b[1;33m(\u001b[0m\u001b[0mui\u001b[0m\u001b[1;33m,\u001b[0m\u001b[0msong\u001b[0m\u001b[1;33m,\u001b[0m\u001b[0mmean_rating\u001b[0m\u001b[1;33m)\u001b[0m\u001b[1;33m)\u001b[0m\u001b[1;33m\u001b[0m\u001b[1;33m\u001b[0m\u001b[0m\n\u001b[0;32m     17\u001b[0m     \u001b[0mpred\u001b[0m \u001b[1;33m=\u001b[0m \u001b[0msvd\u001b[0m\u001b[1;33m.\u001b[0m\u001b[0mtest\u001b[0m\u001b[1;33m(\u001b[0m\u001b[0mtriplet_list\u001b[0m\u001b[1;33m)\u001b[0m\u001b[1;33m\u001b[0m\u001b[1;33m\u001b[0m\u001b[0m\n\u001b[1;32m---> 18\u001b[1;33m     \u001b[0mest_values\u001b[0m \u001b[1;33m=\u001b[0m \u001b[0mpd\u001b[0m\u001b[1;33m.\u001b[0m\u001b[0mDataFrame\u001b[0m\u001b[1;33m(\u001b[0m\u001b[0mpred\u001b[0m\u001b[1;33m)\u001b[0m\u001b[1;33m[\u001b[0m\u001b[1;34m'est'\u001b[0m\u001b[1;33m]\u001b[0m\u001b[1;33m.\u001b[0m\u001b[0mvalues\u001b[0m\u001b[1;33m\u001b[0m\u001b[1;33m\u001b[0m\u001b[0m\n\u001b[0m\u001b[0;32m     19\u001b[0m     \u001b[1;32mreturn\u001b[0m \u001b[0mest_values\u001b[0m\u001b[1;33m\u001b[0m\u001b[1;33m\u001b[0m\u001b[0m\n\u001b[0;32m     20\u001b[0m \u001b[1;33m\u001b[0m\u001b[0m\n",
      "\u001b[1;32m~\\Anaconda3\\lib\\site-packages\\pandas\\core\\frame.py\u001b[0m in \u001b[0;36m__init__\u001b[1;34m(self, data, index, columns, dtype, copy)\u001b[0m\n\u001b[0;32m    568\u001b[0m                     \u001b[1;32mif\u001b[0m \u001b[0mis_named_tuple\u001b[0m\u001b[1;33m(\u001b[0m\u001b[0mdata\u001b[0m\u001b[1;33m[\u001b[0m\u001b[1;36m0\u001b[0m\u001b[1;33m]\u001b[0m\u001b[1;33m)\u001b[0m \u001b[1;32mand\u001b[0m \u001b[0mcolumns\u001b[0m \u001b[1;32mis\u001b[0m \u001b[1;32mNone\u001b[0m\u001b[1;33m:\u001b[0m\u001b[1;33m\u001b[0m\u001b[1;33m\u001b[0m\u001b[0m\n\u001b[0;32m    569\u001b[0m                         \u001b[0mcolumns\u001b[0m \u001b[1;33m=\u001b[0m \u001b[0mdata\u001b[0m\u001b[1;33m[\u001b[0m\u001b[1;36m0\u001b[0m\u001b[1;33m]\u001b[0m\u001b[1;33m.\u001b[0m\u001b[0m_fields\u001b[0m\u001b[1;33m\u001b[0m\u001b[1;33m\u001b[0m\u001b[0m\n\u001b[1;32m--> 570\u001b[1;33m                     \u001b[0marrays\u001b[0m\u001b[1;33m,\u001b[0m \u001b[0mcolumns\u001b[0m \u001b[1;33m=\u001b[0m \u001b[0mto_arrays\u001b[0m\u001b[1;33m(\u001b[0m\u001b[0mdata\u001b[0m\u001b[1;33m,\u001b[0m \u001b[0mcolumns\u001b[0m\u001b[1;33m,\u001b[0m \u001b[0mdtype\u001b[0m\u001b[1;33m=\u001b[0m\u001b[0mdtype\u001b[0m\u001b[1;33m)\u001b[0m\u001b[1;33m\u001b[0m\u001b[1;33m\u001b[0m\u001b[0m\n\u001b[0m\u001b[0;32m    571\u001b[0m                     \u001b[0mcolumns\u001b[0m \u001b[1;33m=\u001b[0m \u001b[0mensure_index\u001b[0m\u001b[1;33m(\u001b[0m\u001b[0mcolumns\u001b[0m\u001b[1;33m)\u001b[0m\u001b[1;33m\u001b[0m\u001b[1;33m\u001b[0m\u001b[0m\n\u001b[0;32m    572\u001b[0m \u001b[1;33m\u001b[0m\u001b[0m\n",
      "\u001b[1;32m~\\Anaconda3\\lib\\site-packages\\pandas\\core\\internals\\construction.py\u001b[0m in \u001b[0;36mto_arrays\u001b[1;34m(data, columns, coerce_float, dtype)\u001b[0m\n\u001b[0;32m    526\u001b[0m         \u001b[1;32mreturn\u001b[0m \u001b[1;33m[\u001b[0m\u001b[1;33m]\u001b[0m\u001b[1;33m,\u001b[0m \u001b[1;33m[\u001b[0m\u001b[1;33m]\u001b[0m  \u001b[1;31m# columns if columns is not None else []\u001b[0m\u001b[1;33m\u001b[0m\u001b[1;33m\u001b[0m\u001b[0m\n\u001b[0;32m    527\u001b[0m     \u001b[1;32mif\u001b[0m \u001b[0misinstance\u001b[0m\u001b[1;33m(\u001b[0m\u001b[0mdata\u001b[0m\u001b[1;33m[\u001b[0m\u001b[1;36m0\u001b[0m\u001b[1;33m]\u001b[0m\u001b[1;33m,\u001b[0m \u001b[1;33m(\u001b[0m\u001b[0mlist\u001b[0m\u001b[1;33m,\u001b[0m \u001b[0mtuple\u001b[0m\u001b[1;33m)\u001b[0m\u001b[1;33m)\u001b[0m\u001b[1;33m:\u001b[0m\u001b[1;33m\u001b[0m\u001b[1;33m\u001b[0m\u001b[0m\n\u001b[1;32m--> 528\u001b[1;33m         \u001b[1;32mreturn\u001b[0m \u001b[0m_list_to_arrays\u001b[0m\u001b[1;33m(\u001b[0m\u001b[0mdata\u001b[0m\u001b[1;33m,\u001b[0m \u001b[0mcolumns\u001b[0m\u001b[1;33m,\u001b[0m \u001b[0mcoerce_float\u001b[0m\u001b[1;33m=\u001b[0m\u001b[0mcoerce_float\u001b[0m\u001b[1;33m,\u001b[0m \u001b[0mdtype\u001b[0m\u001b[1;33m=\u001b[0m\u001b[0mdtype\u001b[0m\u001b[1;33m)\u001b[0m\u001b[1;33m\u001b[0m\u001b[1;33m\u001b[0m\u001b[0m\n\u001b[0m\u001b[0;32m    529\u001b[0m     \u001b[1;32melif\u001b[0m \u001b[0misinstance\u001b[0m\u001b[1;33m(\u001b[0m\u001b[0mdata\u001b[0m\u001b[1;33m[\u001b[0m\u001b[1;36m0\u001b[0m\u001b[1;33m]\u001b[0m\u001b[1;33m,\u001b[0m \u001b[0mabc\u001b[0m\u001b[1;33m.\u001b[0m\u001b[0mMapping\u001b[0m\u001b[1;33m)\u001b[0m\u001b[1;33m:\u001b[0m\u001b[1;33m\u001b[0m\u001b[1;33m\u001b[0m\u001b[0m\n\u001b[0;32m    530\u001b[0m         return _list_of_dict_to_arrays(\n",
      "\u001b[1;32m~\\Anaconda3\\lib\\site-packages\\pandas\\core\\internals\\construction.py\u001b[0m in \u001b[0;36m_list_to_arrays\u001b[1;34m(data, columns, coerce_float, dtype)\u001b[0m\n\u001b[0;32m    560\u001b[0m ) -> Tuple[List[Scalar], Union[Index, List[Axis]]]:\n\u001b[0;32m    561\u001b[0m     \u001b[1;32mif\u001b[0m \u001b[0mlen\u001b[0m\u001b[1;33m(\u001b[0m\u001b[0mdata\u001b[0m\u001b[1;33m)\u001b[0m \u001b[1;33m>\u001b[0m \u001b[1;36m0\u001b[0m \u001b[1;32mand\u001b[0m \u001b[0misinstance\u001b[0m\u001b[1;33m(\u001b[0m\u001b[0mdata\u001b[0m\u001b[1;33m[\u001b[0m\u001b[1;36m0\u001b[0m\u001b[1;33m]\u001b[0m\u001b[1;33m,\u001b[0m \u001b[0mtuple\u001b[0m\u001b[1;33m)\u001b[0m\u001b[1;33m:\u001b[0m\u001b[1;33m\u001b[0m\u001b[1;33m\u001b[0m\u001b[0m\n\u001b[1;32m--> 562\u001b[1;33m         \u001b[0mcontent\u001b[0m \u001b[1;33m=\u001b[0m \u001b[0mlist\u001b[0m\u001b[1;33m(\u001b[0m\u001b[0mlib\u001b[0m\u001b[1;33m.\u001b[0m\u001b[0mto_object_array_tuples\u001b[0m\u001b[1;33m(\u001b[0m\u001b[0mdata\u001b[0m\u001b[1;33m)\u001b[0m\u001b[1;33m.\u001b[0m\u001b[0mT\u001b[0m\u001b[1;33m)\u001b[0m\u001b[1;33m\u001b[0m\u001b[1;33m\u001b[0m\u001b[0m\n\u001b[0m\u001b[0;32m    563\u001b[0m     \u001b[1;32melse\u001b[0m\u001b[1;33m:\u001b[0m\u001b[1;33m\u001b[0m\u001b[1;33m\u001b[0m\u001b[0m\n\u001b[0;32m    564\u001b[0m         \u001b[1;31m# list of lists\u001b[0m\u001b[1;33m\u001b[0m\u001b[1;33m\u001b[0m\u001b[1;33m\u001b[0m\u001b[0m\n",
      "\u001b[1;32mpandas\\_libs\\lib.pyx\u001b[0m in \u001b[0;36mpandas._libs.lib.to_object_array_tuples\u001b[1;34m()\u001b[0m\n",
      "\u001b[1;31mMemoryError\u001b[0m: Unable to allocate 1.45 MiB for an array with shape (38091, 5) and data type object"
     ]
    }
   ],
   "source": [
    "unique_users = train_data.user_id.unique()\n",
    "user_vectors = []\n",
    "count = 0\n",
    "for user in tqdm(unique_users):\n",
    "    user_vectors.append({user:computeUserItemVector('user',user)})\n",
    "    count = count+1\n",
    "    if count%10000 == 0:\n",
    "         print(\"Processed 10000 records\")"
   ]
  },
  {
   "cell_type": "code",
   "execution_count": null,
   "id": "1fcabc68",
   "metadata": {},
   "outputs": [],
   "source": []
  }
 ],
 "metadata": {
  "kernelspec": {
   "display_name": "Python 3",
   "language": "python",
   "name": "python3"
  },
  "language_info": {
   "codemirror_mode": {
    "name": "ipython",
    "version": 3
   },
   "file_extension": ".py",
   "mimetype": "text/x-python",
   "name": "python",
   "nbconvert_exporter": "python",
   "pygments_lexer": "ipython3",
   "version": "3.8.5"
  }
 },
 "nbformat": 4,
 "nbformat_minor": 5
}
